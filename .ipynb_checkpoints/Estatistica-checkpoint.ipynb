{
 "cells": [
  {
   "cell_type": "markdown",
   "id": "231154a2",
   "metadata": {},
   "source": [
    "### Histograma\n",
    "\n",
    "Um histograma é uma espécie de gráfico de barras que demonstra uma distribuição de frequências. No histograma, a base de cada uma das barras representa uma classe e a altura representa a quantidade ou frequência absoluta com que o valor de cada classe ocorre."
   ]
  },
  {
   "cell_type": "code",
   "execution_count": 133,
   "id": "9fcfad8d",
   "metadata": {},
   "outputs": [],
   "source": [
    "import pandas as pd\n",
    "import numpy as np\n",
    "import matplotlib.pyplot as plt\n",
    "%matplotlib inline"
   ]
  },
  {
   "cell_type": "code",
   "execution_count": 134,
   "id": "0f7c5ac3",
   "metadata": {
    "scrolled": true
   },
   "outputs": [],
   "source": [
    "# Criando uma serie\n",
    "km = pd.Series([4,6,11,13,18,6,7,18,21,43,45,49,24,26,27,35,36,36,42])"
   ]
  },
  {
   "cell_type": "code",
   "execution_count": 135,
   "id": "4e4d53a3",
   "metadata": {},
   "outputs": [],
   "source": [
    "# Criando uma função para retornar o valor de intervalo ticks\n",
    "def ticks(lista, bars):\n",
    "    lista.sort()\n",
    "    inter = (lista[-1] - lista[0])/bars # O intervalo é maior valor menos o menor \n",
    "    tick = [lista[0]]                        # valor dividor pelas barras(bins)\n",
    "    ult = lista[0] + inter\n",
    "    tick.append(ult)\n",
    "    for x in range(bars-1):   # sempre somando o intervalo 4+9: 13+9 ate o final\n",
    "        ult += inter\n",
    "        tick.append(ult)\n",
    "    return tick"
   ]
  },
  {
   "cell_type": "code",
   "execution_count": 136,
   "id": "4610944b",
   "metadata": {},
   "outputs": [],
   "source": [
    "def frequencia_relativa(total,yticks):\n",
    "    freq_rel = []\n",
    "    for item in yticks:\n",
    "        x = item/total\n",
    "        freq_rel.append(\"{0:.2f}%\".format(x*100))\n",
    "    return freq_rel"
   ]
  },
  {
   "cell_type": "code",
   "execution_count": 137,
   "id": "50cb492c",
   "metadata": {},
   "outputs": [],
   "source": [
    "def pct(x):\n",
    "    return \"{0:.2f}%\".format(x*100)"
   ]
  },
  {
   "cell_type": "code",
   "execution_count": 138,
   "id": "1cf90add",
   "metadata": {},
   "outputs": [],
   "source": [
    "# Criando uma função para gerar um histograma\n",
    "def gera_histograma(barras, data_series, titulo, unidade): \n",
    "    # Criando uma lista a partir de um data series\n",
    "    lista_km = data_series.values\n",
    "\n",
    "    # Plotando o histograma dos valores acima\n",
    "    plt.figure(figsize=(8,5), dpi=100)\n",
    "    ax = data_series.plot.hist(bins=barras, rwidth=0.98)\n",
    "\n",
    "    # Formatação y-axis para valores da frequencia relativa\n",
    "    yticks = ax.get_yticks()\n",
    "    total = len(lista_km)\n",
    "    freq_rel = frequencia_relativa(total, yticks)\n",
    "    ax.set_yticklabels(freq_rel)\n",
    "\n",
    "    # Detalhes do gráfico\n",
    "    stick = ticks(lista_km, barras)\n",
    "    plt.xticks(stick)\n",
    "    plt.grid(axis='y')\n",
    "    plt.title(titulo)\n",
    "    plt.xlabel(unidade)\n",
    "    plt.ylabel('Frequência')\n",
    "    plt.show()"
   ]
  },
  {
   "cell_type": "code",
   "execution_count": 139,
   "id": "10156bb8",
   "metadata": {
    "scrolled": false
   },
   "outputs": [
    {
     "name": "stderr",
     "output_type": "stream",
     "text": [
      "C:\\Users\\wende\\AppData\\Local\\Temp\\ipykernel_6312\\2967141880.py:14: UserWarning: FixedFormatter should only be used together with FixedLocator\n",
      "  ax.set_yticklabels(freq_rel)\n"
     ]
    },
    {
     "data": {
      "image/png": "[encoded data removed]",
      "text/plain": [
       "<Figure size 800x500 with 1 Axes>"
      ]
     },
     "metadata": {},
     "output_type": "display_data"
    }
   ],
   "source": [
    "# Chamando a função para gerar o histograma\n",
    "gera_histograma(5, km, 'Distancia do trabalho para casa', 'km')"
   ]
  },
  {
   "cell_type": "markdown",
   "id": "62191e58",
   "metadata": {},
   "source": [
    "### Medidas Centrais - Média, Mediana e Moda\n",
    "\n",
    "Média: é calculada somando-se todos os valores de um conjunto de dados e dividindo-se pelo número de elementos deste conjunto.\n",
    "\n",
    "Mediana: representa o valor central de um conjunto de dados. Para encontrar o valor da mediana é necessário colocar os valores em ordem crescente ou decrescente.\n",
    "\n",
    "Moda: representa o valor mais frequente de um conjunto de dados, sendo assim, para defini-la basta observar a frequência com que os valores aparecem."
   ]
  },
  {
   "cell_type": "code",
   "execution_count": 140,
   "id": "e786e4ae",
   "metadata": {},
   "outputs": [],
   "source": [
    "# Importando a lib statistic\n",
    "import statistics as stats\n",
    "import math\n",
    "\n",
    "# Lista \n",
    "valores = [4,6,11,13,18,6,7,18,21,43,45,49,24,26,27,35,36,36,6,42]"
   ]
  },
  {
   "cell_type": "code",
   "execution_count": 141,
   "id": "f628f6ba",
   "metadata": {},
   "outputs": [
    {
     "data": {
      "text/plain": [
       "23.65"
      ]
     },
     "execution_count": 141,
     "metadata": {},
     "output_type": "execute_result"
    }
   ],
   "source": [
    "# Média\n",
    "stats.mean(valores)"
   ]
  },
  {
   "cell_type": "code",
   "execution_count": 142,
   "id": "f7e932f1",
   "metadata": {},
   "outputs": [
    {
     "data": {
      "text/plain": [
       "22.5"
      ]
     },
     "execution_count": 142,
     "metadata": {},
     "output_type": "execute_result"
    }
   ],
   "source": [
    "# Mediana\n",
    "stats.median(valores)"
   ]
  },
  {
   "cell_type": "code",
   "execution_count": 143,
   "id": "e9b195bd",
   "metadata": {},
   "outputs": [
    {
     "data": {
      "text/plain": [
       "6"
      ]
     },
     "execution_count": 143,
     "metadata": {},
     "output_type": "execute_result"
    }
   ],
   "source": [
    "# Moda\n",
    "stats.mode(valores)"
   ]
  },
  {
   "cell_type": "markdown",
   "id": "34ddccb1",
   "metadata": {},
   "source": [
    "### Medidas de Dispersão"
   ]
  },
  {
   "cell_type": "code",
   "execution_count": 144,
   "id": "2c8500ff",
   "metadata": {},
   "outputs": [],
   "source": [
    "# Carregando os dados para analise\n",
    "data = pd.read_csv('weight-height.csv')"
   ]
  },
  {
   "cell_type": "code",
   "execution_count": 145,
   "id": "b38145f9",
   "metadata": {},
   "outputs": [],
   "source": [
    "# Renomeando colunas \n",
    "data.columns = ['Genero', 'Altura', 'Peso']"
   ]
  },
  {
   "cell_type": "code",
   "execution_count": 146,
   "id": "0c811c9f",
   "metadata": {},
   "outputs": [],
   "source": [
    "# Criando uma coluna com os valores da altura em centimetro\n",
    "data['Altura cm'] = round(data['Altura'] * 2.54)"
   ]
  },
  {
   "cell_type": "code",
   "execution_count": 147,
   "id": "6cc7408d",
   "metadata": {},
   "outputs": [],
   "source": [
    "# Criando uma coluna convertendo os valores para peso kg\n",
    "data['Peso kg'] = round(data['Peso'] * 0.453592, 1)"
   ]
  },
  {
   "cell_type": "code",
   "execution_count": 148,
   "id": "609973ca",
   "metadata": {},
   "outputs": [
    {
     "data": {
      "text/html": [
       "<div>\n",
       "<style scoped>\n",
       "    .dataframe tbody tr th:only-of-type {\n",
       "        vertical-align: middle;\n",
       "    }\n",
       "\n",
       "    .dataframe tbody tr th {\n",
       "        vertical-align: top;\n",
       "    }\n",
       "\n",
       "    .dataframe thead th {\n",
       "        text-align: right;\n",
       "    }\n",
       "</style>\n",
       "<table border=\"1\" class=\"dataframe\">\n",
       "  <thead>\n",
       "    <tr style=\"text-align: right;\">\n",
       "      <th></th>\n",
       "      <th>Genero</th>\n",
       "      <th>Altura</th>\n",
       "      <th>Peso</th>\n",
       "      <th>Altura cm</th>\n",
       "      <th>Peso kg</th>\n",
       "    </tr>\n",
       "  </thead>\n",
       "  <tbody>\n",
       "    <tr>\n",
       "      <th>0</th>\n",
       "      <td>Male</td>\n",
       "      <td>73.847017</td>\n",
       "      <td>241.893563</td>\n",
       "      <td>188.0</td>\n",
       "      <td>109.7</td>\n",
       "    </tr>\n",
       "    <tr>\n",
       "      <th>1</th>\n",
       "      <td>Male</td>\n",
       "      <td>68.781904</td>\n",
       "      <td>162.310473</td>\n",
       "      <td>175.0</td>\n",
       "      <td>73.6</td>\n",
       "    </tr>\n",
       "    <tr>\n",
       "      <th>2</th>\n",
       "      <td>Male</td>\n",
       "      <td>74.110105</td>\n",
       "      <td>212.740856</td>\n",
       "      <td>188.0</td>\n",
       "      <td>96.5</td>\n",
       "    </tr>\n",
       "    <tr>\n",
       "      <th>3</th>\n",
       "      <td>Male</td>\n",
       "      <td>71.730978</td>\n",
       "      <td>220.042470</td>\n",
       "      <td>182.0</td>\n",
       "      <td>99.8</td>\n",
       "    </tr>\n",
       "    <tr>\n",
       "      <th>4</th>\n",
       "      <td>Male</td>\n",
       "      <td>69.881796</td>\n",
       "      <td>206.349801</td>\n",
       "      <td>177.0</td>\n",
       "      <td>93.6</td>\n",
       "    </tr>\n",
       "  </tbody>\n",
       "</table>\n",
       "</div>"
      ],
      "text/plain": [
       "  Genero     Altura        Peso  Altura cm  Peso kg\n",
       "0   Male  73.847017  241.893563      188.0    109.7\n",
       "1   Male  68.781904  162.310473      175.0     73.6\n",
       "2   Male  74.110105  212.740856      188.0     96.5\n",
       "3   Male  71.730978  220.042470      182.0     99.8\n",
       "4   Male  69.881796  206.349801      177.0     93.6"
      ]
     },
     "execution_count": 148,
     "metadata": {},
     "output_type": "execute_result"
    }
   ],
   "source": [
    "data.head()"
   ]
  },
  {
   "cell_type": "code",
   "execution_count": 149,
   "id": "7d96ddac",
   "metadata": {},
   "outputs": [],
   "source": [
    "# Separando os dados para analisar no histograma, altura e peso por genero \n",
    "altura_mulheres = data.loc[data['Genero'] == 'Female']['Altura cm'] \n",
    "altura_homens = data.loc[data['Genero'] == 'Male']['Altura cm']\n",
    "peso_mulheres = data.loc[data['Genero'] == 'Female']['Peso kg'] \n",
    "peso_homens = data.loc[data['Genero'] == 'Male']['Peso kg']"
   ]
  },
  {
   "cell_type": "code",
   "execution_count": 150,
   "id": "ef8a5dd1",
   "metadata": {
    "scrolled": false
   },
   "outputs": [
    {
     "name": "stderr",
     "output_type": "stream",
     "text": [
      "C:\\Users\\wende\\AppData\\Local\\Temp\\ipykernel_6312\\2967141880.py:14: UserWarning: FixedFormatter should only be used together with FixedLocator\n",
      "  ax.set_yticklabels(freq_rel)\n"
     ]
    },
    {
     "data": {
      "image/png": "[encoded data removed]",
      "text/plain": [
       "<Figure size 800x500 with 1 Axes>"
      ]
     },
     "metadata": {},
     "output_type": "display_data"
    }
   ],
   "source": [
    "# Visualizando histograma genero feminino\n",
    "gera_histograma(9, altura_mulheres, 'Altura Mulheres', 'Centimetros')"
   ]
  },
  {
   "cell_type": "markdown",
   "id": "ed8a805d",
   "metadata": {},
   "source": [
    "### Temos uma distribuição normal para abos os gráficos, tendo a media, mediana e moda centralizadas"
   ]
  },
  {
   "cell_type": "code",
   "execution_count": 151,
   "id": "89053051",
   "metadata": {
    "scrolled": false
   },
   "outputs": [
    {
     "name": "stderr",
     "output_type": "stream",
     "text": [
      "C:\\Users\\wende\\AppData\\Local\\Temp\\ipykernel_6312\\2967141880.py:14: UserWarning: FixedFormatter should only be used together with FixedLocator\n",
      "  ax.set_yticklabels(freq_rel)\n"
     ]
    },
    {
     "data": {
      "image/png": "[encoded data removed]",
      "text/plain": [
       "<Figure size 800x500 with 1 Axes>"
      ]
     },
     "metadata": {},
     "output_type": "display_data"
    }
   ],
   "source": [
    "# Visualizando histograma genero masculino\n",
    "gera_histograma(9, altura_homens, 'Altura Homens', 'Centimetros')"
   ]
  },
  {
   "cell_type": "code",
   "execution_count": 152,
   "id": "9e628bde",
   "metadata": {},
   "outputs": [
    {
     "name": "stderr",
     "output_type": "stream",
     "text": [
      "C:\\Users\\wende\\AppData\\Local\\Temp\\ipykernel_6312\\2967141880.py:14: UserWarning: FixedFormatter should only be used together with FixedLocator\n",
      "  ax.set_yticklabels(freq_rel)\n"
     ]
    },
    {
     "data": {
      "image/png": "[encoded data removed]",
      "text/plain": [
       "<Figure size 800x500 with 1 Axes>"
      ]
     },
     "metadata": {},
     "output_type": "display_data"
    }
   ],
   "source": [
    "# Analisando a distribuição do peso das mulheres\n",
    "gera_histograma(9, peso_mulheres, 'Peso Mulheres', 'Kg')"
   ]
  },
  {
   "cell_type": "code",
   "execution_count": 153,
   "id": "0c80b6bf",
   "metadata": {},
   "outputs": [
    {
     "name": "stderr",
     "output_type": "stream",
     "text": [
      "C:\\Users\\wende\\AppData\\Local\\Temp\\ipykernel_6312\\2967141880.py:14: UserWarning: FixedFormatter should only be used together with FixedLocator\n",
      "  ax.set_yticklabels(freq_rel)\n"
     ]
    },
    {
     "data": {
      "image/png": "[encoded data removed]",
      "text/plain": [
       "<Figure size 800x500 with 1 Axes>"
      ]
     },
     "metadata": {},
     "output_type": "display_data"
    }
   ],
   "source": [
    "# Analisando a distribuição do peso dos homens\n",
    "gera_histograma(9, peso_homens, 'Peso Homens', 'Kg')"
   ]
  },
  {
   "cell_type": "markdown",
   "id": "b5cb414b",
   "metadata": {},
   "source": [
    "### Variância e Desvio Padrão\n",
    "\n",
    "* Variância é a dispersão dos dados em relação a média\n",
    "* Desvio-padrão é a raiz quadrada da variância"
   ]
  },
  {
   "cell_type": "markdown",
   "id": "7cecb854",
   "metadata": {},
   "source": [
    "Para extrairmos a variância calculando cada um dos elementos precisamos da média, diminuindo cada elemento pela média elevando ao quadrado e somando um por um, dividindo pelo tamanho do conjunto menos 1 iremos obter a variância do conjunto."
   ]
  },
  {
   "cell_type": "code",
   "execution_count": 154,
   "id": "6b01dcc5",
   "metadata": {},
   "outputs": [
    {
     "data": {
      "text/plain": [
       "1266    171.0\n",
       "36      157.0\n",
       "3301    178.0\n",
       "701     167.0\n",
       "1526    172.0\n",
       "Name: Altura cm, dtype: float64"
      ]
     },
     "execution_count": 154,
     "metadata": {},
     "output_type": "execute_result"
    }
   ],
   "source": [
    "# Vamos obter uma variaval com uma amostra da altura dos homens\n",
    "dados = altura_homens.sample(5)\n",
    "dados"
   ]
  },
  {
   "cell_type": "code",
   "execution_count": 155,
   "id": "4172f041",
   "metadata": {},
   "outputs": [],
   "source": [
    "# Precisamos da média da amostra\n",
    "media =dados.mean()"
   ]
  },
  {
   "cell_type": "code",
   "execution_count": 156,
   "id": "bd16174c",
   "metadata": {},
   "outputs": [
    {
     "data": {
      "text/plain": [
       "171.0"
      ]
     },
     "execution_count": 156,
     "metadata": {},
     "output_type": "execute_result"
    }
   ],
   "source": [
    "# Convertendo para uma lista\n",
    "dados = dados.values\n",
    "dados[0]"
   ]
  },
  {
   "cell_type": "code",
   "execution_count": 157,
   "id": "45ec9431",
   "metadata": {},
   "outputs": [
    {
     "data": {
      "text/plain": [
       "60.5"
      ]
     },
     "execution_count": 157,
     "metadata": {},
     "output_type": "execute_result"
    }
   ],
   "source": [
    "# Para gerar a variância em calculos normais seria assim\n",
    "var = ((dados[0]-media)**2 + (dados[1]-media)**2 + (dados[2]-media)**2 + \n",
    "       (dados[3]-media)**2 + (dados[4]-media)**2)/(len(dados)-1)\n",
    "var"
   ]
  },
  {
   "cell_type": "code",
   "execution_count": 158,
   "id": "20a957ae",
   "metadata": {},
   "outputs": [
    {
     "data": {
      "text/plain": [
       "60.5"
      ]
     },
     "execution_count": 158,
     "metadata": {},
     "output_type": "execute_result"
    }
   ],
   "source": [
    "# Tirando a prova real da variÂncia\n",
    "stats.variance(dados)"
   ]
  },
  {
   "cell_type": "code",
   "execution_count": 159,
   "id": "b773db05",
   "metadata": {},
   "outputs": [
    {
     "data": {
      "text/plain": [
       "7.7781745930520225"
      ]
     },
     "execution_count": 159,
     "metadata": {},
     "output_type": "execute_result"
    }
   ],
   "source": [
    "# Obtendo o desvio padrão de módulo calculado\n",
    "(var ** (1/2))"
   ]
  },
  {
   "cell_type": "code",
   "execution_count": 160,
   "id": "8e7ba39a",
   "metadata": {},
   "outputs": [
    {
     "data": {
      "text/plain": [
       "7.7781745930520225"
      ]
     },
     "execution_count": 160,
     "metadata": {},
     "output_type": "execute_result"
    }
   ],
   "source": [
    "# Tirando a prova do desvio padrão\n",
    "math.sqrt(var)  # Usando o módulo matematico math\n",
    "stats.stdev(dados)  # Usando o módulo estatístico statistics"
   ]
  },
  {
   "cell_type": "markdown",
   "id": "8713270e",
   "metadata": {},
   "source": [
    "### Coeficiente de Variação"
   ]
  },
  {
   "cell_type": "code",
   "execution_count": 161,
   "id": "c3cc59fd",
   "metadata": {},
   "outputs": [
    {
     "data": {
      "text/plain": [
       "'4.23%'"
      ]
     },
     "execution_count": 161,
     "metadata": {},
     "output_type": "execute_result"
    }
   ],
   "source": [
    "# para sabermos o coeficiente de variação da altura das mulheres e homens precisamo da média e desvio\n",
    "dp_mulheres = stats.stdev(altura_mulheres)  # Desvio-Padrão\n",
    "med_mulheres = stats.mean(altura_mulheres)  # Média\n",
    "\n",
    "# Para gerar o coeficiente é so usar a formula CV= dp / med\n",
    "cv_mulheres = dp_mulheres / med_mulheres\n",
    "pct(cv_mulheres)"
   ]
  },
  {
   "cell_type": "code",
   "execution_count": 162,
   "id": "72c7c866",
   "metadata": {},
   "outputs": [
    {
     "data": {
      "text/plain": [
       "'4.16%'"
      ]
     },
     "execution_count": 162,
     "metadata": {},
     "output_type": "execute_result"
    }
   ],
   "source": [
    "# Agora usando os dados dos homens\n",
    "med_homens = stats.mean(altura_homens)  # Média\n",
    "dp_homens = stats.stdev(altura_homens)  # Desvio\n",
    "\n",
    "# O coeficiente da altura dos homens\n",
    "cv_homens = dp_homens / med_homens\n",
    "pct(cv_homens)"
   ]
  },
  {
   "cell_type": "code",
   "execution_count": 163,
   "id": "c630e8dd",
   "metadata": {},
   "outputs": [
    {
     "data": {
      "text/plain": [
       "'14.00%'"
      ]
     },
     "execution_count": 163,
     "metadata": {},
     "output_type": "execute_result"
    }
   ],
   "source": [
    "# E o coeficiente de variação do peso das mulheres?\n",
    "dp_mulheres = stats.stdev(peso_mulheres)  # Desvio-Padrão\n",
    "med_mulheres = stats.mean(peso_mulheres)  # Média\n",
    "\n",
    "# Para gerar o coeficiente é so usar a formula CV= dp / med\n",
    "cv_mulheres = dp_mulheres / med_mulheres\n",
    "pct(cv_mulheres)"
   ]
  },
  {
   "cell_type": "code",
   "execution_count": 164,
   "id": "3d26c4c7",
   "metadata": {},
   "outputs": [
    {
     "data": {
      "text/plain": [
       "'10.58%'"
      ]
     },
     "execution_count": 164,
     "metadata": {},
     "output_type": "execute_result"
    }
   ],
   "source": [
    "# Agora usando os dados dos homens\n",
    "med_homens = stats.mean(peso_homens)  # Média\n",
    "dp_homens = stats.stdev(peso_homens)  # Desvio\n",
    "\n",
    "# O coeficiente da altura dos homens\n",
    "cv_homens = dp_homens / med_homens\n",
    "pct(cv_homens)"
   ]
  },
  {
   "cell_type": "markdown",
   "id": "94e98782",
   "metadata": {},
   "source": [
    "### Covariância\n",
    "\n",
    "Calculando a covariância como seria feito na mão"
   ]
  },
  {
   "cell_type": "code",
   "execution_count": 165,
   "id": "e45290f3",
   "metadata": {
    "scrolled": true
   },
   "outputs": [
    {
     "data": {
      "text/html": [
       "<div>\n",
       "<style scoped>\n",
       "    .dataframe tbody tr th:only-of-type {\n",
       "        vertical-align: middle;\n",
       "    }\n",
       "\n",
       "    .dataframe tbody tr th {\n",
       "        vertical-align: top;\n",
       "    }\n",
       "\n",
       "    .dataframe thead th {\n",
       "        text-align: right;\n",
       "    }\n",
       "</style>\n",
       "<table border=\"1\" class=\"dataframe\">\n",
       "  <thead>\n",
       "    <tr style=\"text-align: right;\">\n",
       "      <th></th>\n",
       "      <th>Altura cm</th>\n",
       "      <th>Peso kg</th>\n",
       "    </tr>\n",
       "  </thead>\n",
       "  <tbody>\n",
       "    <tr>\n",
       "      <th>0</th>\n",
       "      <td>188.0</td>\n",
       "      <td>109.7</td>\n",
       "    </tr>\n",
       "    <tr>\n",
       "      <th>1</th>\n",
       "      <td>175.0</td>\n",
       "      <td>73.6</td>\n",
       "    </tr>\n",
       "    <tr>\n",
       "      <th>2</th>\n",
       "      <td>188.0</td>\n",
       "      <td>96.5</td>\n",
       "    </tr>\n",
       "    <tr>\n",
       "      <th>3</th>\n",
       "      <td>182.0</td>\n",
       "      <td>99.8</td>\n",
       "    </tr>\n",
       "    <tr>\n",
       "      <th>4</th>\n",
       "      <td>177.0</td>\n",
       "      <td>93.6</td>\n",
       "    </tr>\n",
       "  </tbody>\n",
       "</table>\n",
       "</div>"
      ],
      "text/plain": [
       "   Altura cm  Peso kg\n",
       "0      188.0    109.7\n",
       "1      175.0     73.6\n",
       "2      188.0     96.5\n",
       "3      182.0     99.8\n",
       "4      177.0     93.6"
      ]
     },
     "execution_count": 165,
     "metadata": {},
     "output_type": "execute_result"
    }
   ],
   "source": [
    "# Precisamos dos dados de x e y, que seria altura e peso\n",
    "# Separando uma amostra dos dados\n",
    "df_cov = data[['Altura cm', 'Peso kg']].head()\n",
    "df_cov"
   ]
  },
  {
   "cell_type": "code",
   "execution_count": 166,
   "id": "37412e0c",
   "metadata": {},
   "outputs": [],
   "source": [
    "# gerando a media de altura e peso\n",
    "med_altura = df_cov['Altura cm'].mean()\n",
    "med_peso = df_cov['Peso kg'].mean()"
   ]
  },
  {
   "cell_type": "code",
   "execution_count": 167,
   "id": "9d114f10",
   "metadata": {},
   "outputs": [],
   "source": [
    "# lista para receber os valores\n",
    "cov_lista = []"
   ]
  },
  {
   "cell_type": "code",
   "execution_count": 168,
   "id": "347ebada",
   "metadata": {},
   "outputs": [],
   "source": [
    "# Precisamos calcular cada valor dentro da amostra, criando um loop para facilitar\n",
    "for i in range(0,len(df_cov)):\n",
    "    cov_lista.append((df_cov['Altura cm'][i]-med_altura)*(df_cov['Peso kg'][i]-med_peso))"
   ]
  },
  {
   "cell_type": "code",
   "execution_count": 169,
   "id": "6dba79a7",
   "metadata": {},
   "outputs": [
    {
     "data": {
      "text/plain": [
       "[90.35999999999993,\n",
       " 147.28000000000014,\n",
       " 11.159999999999911,\n",
       " 0.0,\n",
       " 5.200000000000102]"
      ]
     },
     "execution_count": 169,
     "metadata": {},
     "output_type": "execute_result"
    }
   ],
   "source": [
    "# Visualizando a lista com os valores\n",
    "cov_lista"
   ]
  },
  {
   "cell_type": "code",
   "execution_count": 170,
   "id": "ed707da4",
   "metadata": {},
   "outputs": [
    {
     "data": {
      "text/plain": [
       "63.50000000000002"
      ]
     },
     "execution_count": 170,
     "metadata": {},
     "output_type": "execute_result"
    }
   ],
   "source": [
    "# Precisamos somar todos os valores da lista e dividir pelo tamanho da amostra -1\n",
    "cov = sum(cov_lista)/(len(df_cov)-1)  # Temos o valor da covariância\n",
    "cov"
   ]
  },
  {
   "cell_type": "markdown",
   "id": "7f8796d2",
   "metadata": {},
   "source": [
    "### Coeficiente de Correlação\n",
    "\n",
    "Cov(x,y) / stdev(x) * stdev(y)"
   ]
  },
  {
   "cell_type": "code",
   "execution_count": 171,
   "id": "e5978489",
   "metadata": {},
   "outputs": [
    {
     "name": "stdout",
     "output_type": "stream",
     "text": [
      "Desvio Altura: 6.041522986797286 | Desvio Peso: 13.234915942309572\n"
     ]
    }
   ],
   "source": [
    "# desvio padrão\n",
    "dp_altura = stats.stdev(df_cov['Altura cm'])\n",
    "dp_peso = stats.stdev(df_cov['Peso kg'])\n",
    "\n",
    "print(f'Desvio Altura: {dp_altura} | Desvio Peso: {dp_peso}')"
   ]
  },
  {
   "cell_type": "code",
   "execution_count": 172,
   "id": "17f15acc",
   "metadata": {},
   "outputs": [
    {
     "data": {
      "text/plain": [
       "'79.42%'"
      ]
     },
     "execution_count": 172,
     "metadata": {},
     "output_type": "execute_result"
    }
   ],
   "source": [
    "# Para ter o coeficiente de correlação é so pegar a covariancia e dividir pelos desvios\n",
    "coef_corr = cov / (dp_altura * dp_peso)\n",
    "\n",
    "# Temos 79,42% de correlação entre as amostras de Altura e Peso \n",
    "# significa que a altura consegue explicar o peso tendo uma relação e um porque\n",
    "pct(coef_corr)"
   ]
  },
  {
   "cell_type": "code",
   "execution_count": 173,
   "id": "05ee68e5",
   "metadata": {},
   "outputs": [
    {
     "data": {
      "text/html": [
       "<div>\n",
       "<style scoped>\n",
       "    .dataframe tbody tr th:only-of-type {\n",
       "        vertical-align: middle;\n",
       "    }\n",
       "\n",
       "    .dataframe tbody tr th {\n",
       "        vertical-align: top;\n",
       "    }\n",
       "\n",
       "    .dataframe thead th {\n",
       "        text-align: right;\n",
       "    }\n",
       "</style>\n",
       "<table border=\"1\" class=\"dataframe\">\n",
       "  <thead>\n",
       "    <tr style=\"text-align: right;\">\n",
       "      <th></th>\n",
       "      <th>Altura cm</th>\n",
       "      <th>Peso kg</th>\n",
       "    </tr>\n",
       "  </thead>\n",
       "  <tbody>\n",
       "    <tr>\n",
       "      <th>Altura cm</th>\n",
       "      <td>1.000000</td>\n",
       "      <td>0.794157</td>\n",
       "    </tr>\n",
       "    <tr>\n",
       "      <th>Peso kg</th>\n",
       "      <td>0.794157</td>\n",
       "      <td>1.000000</td>\n",
       "    </tr>\n",
       "  </tbody>\n",
       "</table>\n",
       "</div>"
      ],
      "text/plain": [
       "           Altura cm   Peso kg\n",
       "Altura cm   1.000000  0.794157\n",
       "Peso kg     0.794157  1.000000"
      ]
     },
     "execution_count": 173,
     "metadata": {},
     "output_type": "execute_result"
    }
   ],
   "source": [
    "# Usando o módulo corr para ter a prova real\n",
    "df_cov.corr()  # Temos 0.7941 - 79,41% "
   ]
  },
  {
   "cell_type": "code",
   "execution_count": 174,
   "id": "d50277c5",
   "metadata": {},
   "outputs": [
    {
     "data": {
      "text/plain": [
       "<matplotlib.collections.PathCollection at 0x20d54e70b80>"
      ]
     },
     "execution_count": 174,
     "metadata": {},
     "output_type": "execute_result"
    },
    {
     "data": {
      "image/png": "[encoded data removed]",
      "text/plain": [
       "<Figure size 640x480 with 1 Axes>"
      ]
     },
     "metadata": {},
     "output_type": "display_data"
    }
   ],
   "source": [
    "# É visivel a relação entre os dados, é comum ver uma pessoa acima de 1.80 ter um peso proximo a 100kg\n",
    "# assim como menor o tamanho menos peso a pessoa terá.\n",
    "plt.scatter(df_cov['Altura cm'], df_cov['Peso kg'])"
   ]
  },
  {
   "cell_type": "code",
   "execution_count": 175,
   "id": "c77b81f4",
   "metadata": {},
   "outputs": [],
   "source": [
    "# Importando o Seaborn \n",
    "import seaborn as sns"
   ]
  },
  {
   "cell_type": "code",
   "execution_count": 177,
   "id": "28e24450",
   "metadata": {},
   "outputs": [
    {
     "data": {
      "text/plain": [
       "<Axes: xlabel='Altura cm', ylabel='Peso kg'>"
      ]
     },
     "execution_count": 177,
     "metadata": {},
     "output_type": "execute_result"
    },
    {
     "data": {
      "image/png": "[encoded data removed]",
      "text/plain": [
       "<Figure size 640x480 with 1 Axes>"
      ]
     },
     "metadata": {},
     "output_type": "display_data"
    }
   ],
   "source": [
    "sns.regplot(x=df_cov['Altura cm'],y= df_cov['Peso kg'])"
   ]
  },
  {
   "cell_type": "code",
   "execution_count": 180,
   "id": "b9edaa40",
   "metadata": {},
   "outputs": [],
   "source": [
    "# Verificando a relação de peso e altura por genero e visualizando no gráfico\n",
    "mulheres = data.loc[data['Genero'] == 'Female'][['Altura cm', 'Peso kg']] \n",
    "homens = data.loc[data['Genero'] == 'Male'][['Altura cm', 'Peso kg']]"
   ]
  },
  {
   "cell_type": "code",
   "execution_count": 181,
   "id": "f8d65e4e",
   "metadata": {},
   "outputs": [
    {
     "data": {
      "text/html": [
       "<div>\n",
       "<style scoped>\n",
       "    .dataframe tbody tr th:only-of-type {\n",
       "        vertical-align: middle;\n",
       "    }\n",
       "\n",
       "    .dataframe tbody tr th {\n",
       "        vertical-align: top;\n",
       "    }\n",
       "\n",
       "    .dataframe thead th {\n",
       "        text-align: right;\n",
       "    }\n",
       "</style>\n",
       "<table border=\"1\" class=\"dataframe\">\n",
       "  <thead>\n",
       "    <tr style=\"text-align: right;\">\n",
       "      <th></th>\n",
       "      <th>Altura cm</th>\n",
       "      <th>Peso kg</th>\n",
       "    </tr>\n",
       "  </thead>\n",
       "  <tbody>\n",
       "    <tr>\n",
       "      <th>Altura cm</th>\n",
       "      <td>1.000000</td>\n",
       "      <td>0.862458</td>\n",
       "    </tr>\n",
       "    <tr>\n",
       "      <th>Peso kg</th>\n",
       "      <td>0.862458</td>\n",
       "      <td>1.000000</td>\n",
       "    </tr>\n",
       "  </tbody>\n",
       "</table>\n",
       "</div>"
      ],
      "text/plain": [
       "           Altura cm   Peso kg\n",
       "Altura cm   1.000000  0.862458\n",
       "Peso kg     0.862458  1.000000"
      ]
     },
     "execution_count": 181,
     "metadata": {},
     "output_type": "execute_result"
    }
   ],
   "source": [
    "# Correlação entre os dados\n",
    "homens.corr()"
   ]
  },
  {
   "cell_type": "code",
   "execution_count": 182,
   "id": "f7da2305",
   "metadata": {},
   "outputs": [
    {
     "data": {
      "text/html": [
       "<div>\n",
       "<style scoped>\n",
       "    .dataframe tbody tr th:only-of-type {\n",
       "        vertical-align: middle;\n",
       "    }\n",
       "\n",
       "    .dataframe tbody tr th {\n",
       "        vertical-align: top;\n",
       "    }\n",
       "\n",
       "    .dataframe thead th {\n",
       "        text-align: right;\n",
       "    }\n",
       "</style>\n",
       "<table border=\"1\" class=\"dataframe\">\n",
       "  <thead>\n",
       "    <tr style=\"text-align: right;\">\n",
       "      <th></th>\n",
       "      <th>Altura cm</th>\n",
       "      <th>Peso kg</th>\n",
       "    </tr>\n",
       "  </thead>\n",
       "  <tbody>\n",
       "    <tr>\n",
       "      <th>Altura cm</th>\n",
       "      <td>1.00000</td>\n",
       "      <td>0.84897</td>\n",
       "    </tr>\n",
       "    <tr>\n",
       "      <th>Peso kg</th>\n",
       "      <td>0.84897</td>\n",
       "      <td>1.00000</td>\n",
       "    </tr>\n",
       "  </tbody>\n",
       "</table>\n",
       "</div>"
      ],
      "text/plain": [
       "           Altura cm  Peso kg\n",
       "Altura cm    1.00000  0.84897\n",
       "Peso kg      0.84897  1.00000"
      ]
     },
     "execution_count": 182,
     "metadata": {},
     "output_type": "execute_result"
    }
   ],
   "source": [
    "# Correlação entre os dados\n",
    "mulheres.corr()"
   ]
  },
  {
   "cell_type": "code",
   "execution_count": 183,
   "id": "e09e5205",
   "metadata": {},
   "outputs": [
    {
     "data": {
      "text/plain": [
       "<Axes: xlabel='Altura cm', ylabel='Peso kg'>"
      ]
     },
     "execution_count": 183,
     "metadata": {},
     "output_type": "execute_result"
    },
    {
     "data": {
      "image/png": "[encoded data removed]",
      "text/plain": [
       "<Figure size 640x480 with 1 Axes>"
      ]
     },
     "metadata": {},
     "output_type": "display_data"
    }
   ],
   "source": [
    "# Visualizando os dados em gráfico\n",
    "sns.regplot(x=mulheres['Altura cm'][2000:2100], y=mulheres['Peso kg'][2000:2100])\n",
    "\n",
    "# Temos a relação de uma amostra de 100 individuos, validando a relação de peso e altura"
   ]
  },
  {
   "cell_type": "code",
   "execution_count": 185,
   "id": "e16ada2c",
   "metadata": {},
   "outputs": [
    {
     "data": {
      "text/plain": [
       "<Axes: xlabel='Altura cm', ylabel='Peso kg'>"
      ]
     },
     "execution_count": 185,
     "metadata": {},
     "output_type": "execute_result"
    },
    {
     "data": {
      "image/png": "[encoded data removed]",
      "text/plain": [
       "<Figure size 640x480 with 1 Axes>"
      ]
     },
     "metadata": {},
     "output_type": "display_data"
    }
   ],
   "source": [
    "sns.regplot(x=homens['Altura cm'][2000:2100], y=homens['Peso kg'][2000:2100])"
   ]
  },
  {
   "cell_type": "markdown",
   "id": "c44f9b5c",
   "metadata": {},
   "source": [
    "### Probabilidade"
   ]
  },
  {
   "cell_type": "code",
   "execution_count": 186,
   "id": "ddcab52b",
   "metadata": {},
   "outputs": [],
   "source": [
    "###"
   ]
  },
  {
   "cell_type": "code",
   "execution_count": null,
   "id": "61bf03c4",
   "metadata": {},
   "outputs": [],
   "source": []
  },
  {
   "cell_type": "code",
   "execution_count": null,
   "id": "ffe02131",
   "metadata": {},
   "outputs": [],
   "source": []
  },
  {
   "cell_type": "code",
   "execution_count": null,
   "id": "16d53fcc",
   "metadata": {},
   "outputs": [],
   "source": []
  },
  {
   "cell_type": "code",
   "execution_count": null,
   "id": "f4c31ac7",
   "metadata": {},
   "outputs": [],
   "source": []
  },
  {
   "cell_type": "code",
   "execution_count": null,
   "id": "728e9675",
   "metadata": {},
   "outputs": [],
   "source": []
  },
  {
   "cell_type": "code",
   "execution_count": null,
   "id": "ef266dd7",
   "metadata": {},
   "outputs": [],
   "source": []
  },
  {
   "cell_type": "code",
   "execution_count": null,
   "id": "2104234f",
   "metadata": {},
   "outputs": [],
   "source": []
  },
  {
   "cell_type": "code",
   "execution_count": null,
   "id": "f2a1de28",
   "metadata": {},
   "outputs": [],
   "source": []
  },
  {
   "cell_type": "code",
   "execution_count": null,
   "id": "6cecdaca",
   "metadata": {},
   "outputs": [],
   "source": []
  },
  {
   "cell_type": "code",
   "execution_count": null,
   "id": "55bcf6f6",
   "metadata": {},
   "outputs": [],
   "source": []
  },
  {
   "cell_type": "code",
   "execution_count": null,
   "id": "eafdb468",
   "metadata": {},
   "outputs": [],
   "source": []
  },
  {
   "cell_type": "code",
   "execution_count": null,
   "id": "90492414",
   "metadata": {},
   "outputs": [],
   "source": []
  },
  {
   "cell_type": "code",
   "execution_count": null,
   "id": "9b6958e6",
   "metadata": {},
   "outputs": [],
   "source": []
  },
  {
   "cell_type": "code",
   "execution_count": null,
   "id": "604ee3d2",
   "metadata": {},
   "outputs": [],
   "source": []
  },
  {
   "cell_type": "code",
   "execution_count": null,
   "id": "c12c2e4f",
   "metadata": {},
   "outputs": [],
   "source": []
  },
  {
   "cell_type": "code",
   "execution_count": null,
   "id": "b9fab07e",
   "metadata": {},
   "outputs": [],
   "source": []
  },
  {
   "cell_type": "code",
   "execution_count": null,
   "id": "5ebb76c7",
   "metadata": {},
   "outputs": [],
   "source": []
  },
  {
   "cell_type": "code",
   "execution_count": null,
   "id": "e95b747f",
   "metadata": {},
   "outputs": [],
   "source": []
  },
  {
   "cell_type": "code",
   "execution_count": null,
   "id": "c18cf9bc",
   "metadata": {},
   "outputs": [],
   "source": []
  },
  {
   "cell_type": "code",
   "execution_count": null,
   "id": "1e308295",
   "metadata": {},
   "outputs": [],
   "source": []
  },
  {
   "cell_type": "code",
   "execution_count": null,
   "id": "9eb6ec99",
   "metadata": {},
   "outputs": [],
   "source": []
  },
  {
   "cell_type": "code",
   "execution_count": null,
   "id": "91bb0985",
   "metadata": {},
   "outputs": [],
   "source": []
  },
  {
   "cell_type": "code",
   "execution_count": null,
   "id": "fa20b72c",
   "metadata": {},
   "outputs": [],
   "source": []
  },
  {
   "cell_type": "code",
   "execution_count": null,
   "id": "b8ceffe0",
   "metadata": {},
   "outputs": [],
   "source": []
  },
  {
   "cell_type": "code",
   "execution_count": null,
   "id": "12b8b23d",
   "metadata": {},
   "outputs": [],
   "source": []
  },
  {
   "cell_type": "code",
   "execution_count": null,
   "id": "549aba86",
   "metadata": {},
   "outputs": [],
   "source": []
  }
 ],
 "metadata": {
  "kernelspec": {
   "display_name": "Python 3 (ipykernel)",
   "language": "python",
   "name": "python3"
  },
  "language_info": {
   "codemirror_mode": {
    "name": "ipython",
    "version": 3
   },
   "file_extension": ".py",
   "mimetype": "text/x-python",
   "name": "python",
   "nbconvert_exporter": "python",
   "pygments_lexer": "ipython3",
   "version": "3.10.9"
  }
 },
 "nbformat": 4,
 "nbformat_minor": 5
}
