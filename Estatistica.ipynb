{
 "cells": [
  {
   "cell_type": "markdown",
   "id": "231154a2",
   "metadata": {},
   "source": [
    "### Histograma\n",
    "\n",
    "Um histograma é uma espécie de gráfico de barras que demonstra uma distribuição de frequências. No histograma, a base de cada uma das barras representa uma classe e a altura representa a quantidade ou frequência absoluta com que o valor de cada classe ocorre."
   ]
  },
  {
   "cell_type": "code",
   "execution_count": 1,
   "id": "9fcfad8d",
   "metadata": {},
   "outputs": [],
   "source": [
    "import pandas as pd\n",
    "import numpy as np\n",
    "import matplotlib.pyplot as plt\n",
    "%matplotlib inline"
   ]
  },
  {
   "cell_type": "code",
   "execution_count": 2,
   "id": "0f7c5ac3",
   "metadata": {
    "scrolled": true
   },
   "outputs": [],
   "source": [
    "# Criando uma serie\n",
    "km = pd.Series([4,6,11,13,18,6,7,18,21,43,45,49,24,26,27,35,36,36,42])"
   ]
  },
  {
   "cell_type": "code",
   "execution_count": 3,
   "id": "4e4d53a3",
   "metadata": {},
   "outputs": [],
   "source": [
    "# Criando uma função para retornar o valor de intervalo ticks\n",
    "def ticks(lista, bars):\n",
    "    lista.sort()\n",
    "    inter = (lista[-1] - lista[0])/bars # O intervalo é maior valor menos o menor \n",
    "    tick = [lista[0]]                        # valor dividor pelas barras(bins)\n",
    "    ult = lista[0] + inter\n",
    "    tick.append(ult)\n",
    "    for x in range(bars-1):   # sempre somando o intervalo 4+9: 13+9 ate o final\n",
    "        ult += inter\n",
    "        tick.append(ult)\n",
    "    return tick"
   ]
  },
  {
   "cell_type": "code",
   "execution_count": 4,
   "id": "4610944b",
   "metadata": {},
   "outputs": [],
   "source": [
    "def frequencia_relativa(total,yticks):\n",
    "    freq_rel = []\n",
    "    for item in yticks:\n",
    "        x = item/total\n",
    "        freq_rel.append(\"{0:.2f}%\".format(x*100))\n",
    "    return freq_rel"
   ]
  },
  {
   "cell_type": "code",
   "execution_count": 5,
   "id": "50cb492c",
   "metadata": {},
   "outputs": [],
   "source": [
    "def pct(x):\n",
    "    return \"{0:.2f}%\".format(x*100)"
   ]
  },
  {
   "cell_type": "code",
   "execution_count": 6,
   "id": "1cf90add",
   "metadata": {},
   "outputs": [],
   "source": [
    "# Criando uma função para gerar um histograma\n",
    "def gera_histograma(barras, data_series, titulo, unidade): \n",
    "    # Criando uma lista a partir de um data series\n",
    "    lista_km = data_series.values\n",
    "\n",
    "    # Plotando o histograma dos valores acima\n",
    "    plt.figure(figsize=(8,5), dpi=100)\n",
    "    ax = data_series.plot.hist(bins=barras, rwidth=0.98)\n",
    "\n",
    "    # Formatação y-axis para valores da frequencia relativa\n",
    "    yticks = ax.get_yticks()\n",
    "    total = len(lista_km)\n",
    "    freq_rel = frequencia_relativa(total, yticks)\n",
    "    ax.set_yticklabels(freq_rel)\n",
    "\n",
    "    # Detalhes do gráfico\n",
    "    stick = ticks(lista_km, barras)\n",
    "    plt.xticks(stick)\n",
    "    plt.grid(axis='y')\n",
    "    plt.title(titulo)\n",
    "    plt.xlabel(unidade)\n",
    "    plt.ylabel('Frequência')\n",
    "    plt.show()"
   ]
  },
  {
   "cell_type": "code",
   "execution_count": 7,
   "id": "10156bb8",
   "metadata": {
    "scrolled": false
   },
   "outputs": [
    {
     "name": "stderr",
     "output_type": "stream",
     "text": [
      "C:\\Users\\wende\\AppData\\Local\\Temp\\ipykernel_2296\\2967141880.py:14: UserWarning: FixedFormatter should only be used together with FixedLocator\n",
      "  ax.set_yticklabels(freq_rel)\n"
     ]
    },
    {
     "data": {
      "image/png": "[encoded data removed]",
      "text/plain": [
       "<Figure size 800x500 with 1 Axes>"
      ]
     },
     "metadata": {},
     "output_type": "display_data"
    }
   ],
   "source": [
    "# Chamando a função para gerar o histograma\n",
    "gera_histograma(5, km, 'Distancia do trabalho para casa', 'km')"
   ]
  },
  {
   "cell_type": "markdown",
   "id": "62191e58",
   "metadata": {},
   "source": [
    "### Medidas Centrais - Média, Mediana e Moda\n",
    "\n",
    "Média: é calculada somando-se todos os valores de um conjunto de dados e dividindo-se pelo número de elementos deste conjunto.\n",
    "\n",
    "Mediana: representa o valor central de um conjunto de dados. Para encontrar o valor da mediana é necessário colocar os valores em ordem crescente ou decrescente.\n",
    "\n",
    "Moda: representa o valor mais frequente de um conjunto de dados, sendo assim, para defini-la basta observar a frequência com que os valores aparecem."
   ]
  },
  {
   "cell_type": "code",
   "execution_count": 8,
   "id": "e786e4ae",
   "metadata": {},
   "outputs": [],
   "source": [
    "# Importando a lib statistic\n",
    "import statistics as stats\n",
    "import math\n",
    "\n",
    "# Lista \n",
    "valores = [4,6,11,13,18,6,7,18,21,43,45,49,24,26,27,35,36,36,6,42]"
   ]
  },
  {
   "cell_type": "code",
   "execution_count": 9,
   "id": "f628f6ba",
   "metadata": {},
   "outputs": [
    {
     "data": {
      "text/plain": [
       "23.65"
      ]
     },
     "execution_count": 9,
     "metadata": {},
     "output_type": "execute_result"
    }
   ],
   "source": [
    "# Média\n",
    "stats.mean(valores)"
   ]
  },
  {
   "cell_type": "code",
   "execution_count": 10,
   "id": "f7e932f1",
   "metadata": {},
   "outputs": [
    {
     "data": {
      "text/plain": [
       "22.5"
      ]
     },
     "execution_count": 10,
     "metadata": {},
     "output_type": "execute_result"
    }
   ],
   "source": [
    "# Mediana\n",
    "stats.median(valores)"
   ]
  },
  {
   "cell_type": "code",
   "execution_count": 11,
   "id": "e9b195bd",
   "metadata": {},
   "outputs": [
    {
     "data": {
      "text/plain": [
       "6"
      ]
     },
     "execution_count": 11,
     "metadata": {},
     "output_type": "execute_result"
    }
   ],
   "source": [
    "# Moda\n",
    "stats.mode(valores)"
   ]
  },
  {
   "cell_type": "markdown",
   "id": "34ddccb1",
   "metadata": {},
   "source": [
    "### Medidas de Dispersão"
   ]
  },
  {
   "cell_type": "code",
   "execution_count": 12,
   "id": "2c8500ff",
   "metadata": {},
   "outputs": [],
   "source": [
    "# Carregando os dados para analise\n",
    "data = pd.read_csv('weight-height.csv')"
   ]
  },
  {
   "cell_type": "code",
   "execution_count": 13,
   "id": "b38145f9",
   "metadata": {},
   "outputs": [],
   "source": [
    "# Renomeando colunas \n",
    "data.columns = ['Genero', 'Altura', 'Peso']"
   ]
  },
  {
   "cell_type": "code",
   "execution_count": 14,
   "id": "0c811c9f",
   "metadata": {},
   "outputs": [],
   "source": [
    "# Criando uma coluna com os valores da altura em centimetro\n",
    "data['Altura cm'] = round(data['Altura'] * 2.54)"
   ]
  },
  {
   "cell_type": "code",
   "execution_count": 15,
   "id": "6cc7408d",
   "metadata": {},
   "outputs": [],
   "source": [
    "# Criando uma coluna convertendo os valores para peso kg\n",
    "data['Peso kg'] = round(data['Peso'] * 0.453592, 1)"
   ]
  },
  {
   "cell_type": "code",
   "execution_count": 16,
   "id": "609973ca",
   "metadata": {},
   "outputs": [
    {
     "data": {
      "text/html": [
       "<div>\n",
       "<style scoped>\n",
       "    .dataframe tbody tr th:only-of-type {\n",
       "        vertical-align: middle;\n",
       "    }\n",
       "\n",
       "    .dataframe tbody tr th {\n",
       "        vertical-align: top;\n",
       "    }\n",
       "\n",
       "    .dataframe thead th {\n",
       "        text-align: right;\n",
       "    }\n",
       "</style>\n",
       "<table border=\"1\" class=\"dataframe\">\n",
       "  <thead>\n",
       "    <tr style=\"text-align: right;\">\n",
       "      <th></th>\n",
       "      <th>Genero</th>\n",
       "      <th>Altura</th>\n",
       "      <th>Peso</th>\n",
       "      <th>Altura cm</th>\n",
       "      <th>Peso kg</th>\n",
       "    </tr>\n",
       "  </thead>\n",
       "  <tbody>\n",
       "    <tr>\n",
       "      <th>0</th>\n",
       "      <td>Male</td>\n",
       "      <td>73.847017</td>\n",
       "      <td>241.893563</td>\n",
       "      <td>188.0</td>\n",
       "      <td>109.7</td>\n",
       "    </tr>\n",
       "    <tr>\n",
       "      <th>1</th>\n",
       "      <td>Male</td>\n",
       "      <td>68.781904</td>\n",
       "      <td>162.310473</td>\n",
       "      <td>175.0</td>\n",
       "      <td>73.6</td>\n",
       "    </tr>\n",
       "    <tr>\n",
       "      <th>2</th>\n",
       "      <td>Male</td>\n",
       "      <td>74.110105</td>\n",
       "      <td>212.740856</td>\n",
       "      <td>188.0</td>\n",
       "      <td>96.5</td>\n",
       "    </tr>\n",
       "    <tr>\n",
       "      <th>3</th>\n",
       "      <td>Male</td>\n",
       "      <td>71.730978</td>\n",
       "      <td>220.042470</td>\n",
       "      <td>182.0</td>\n",
       "      <td>99.8</td>\n",
       "    </tr>\n",
       "    <tr>\n",
       "      <th>4</th>\n",
       "      <td>Male</td>\n",
       "      <td>69.881796</td>\n",
       "      <td>206.349801</td>\n",
       "      <td>177.0</td>\n",
       "      <td>93.6</td>\n",
       "    </tr>\n",
       "  </tbody>\n",
       "</table>\n",
       "</div>"
      ],
      "text/plain": [
       "  Genero     Altura        Peso  Altura cm  Peso kg\n",
       "0   Male  73.847017  241.893563      188.0    109.7\n",
       "1   Male  68.781904  162.310473      175.0     73.6\n",
       "2   Male  74.110105  212.740856      188.0     96.5\n",
       "3   Male  71.730978  220.042470      182.0     99.8\n",
       "4   Male  69.881796  206.349801      177.0     93.6"
      ]
     },
     "execution_count": 16,
     "metadata": {},
     "output_type": "execute_result"
    }
   ],
   "source": [
    "data.head()"
   ]
  },
  {
   "cell_type": "code",
   "execution_count": 17,
   "id": "7d96ddac",
   "metadata": {},
   "outputs": [],
   "source": [
    "# Separando os dados para analisar no histograma, altura e peso por genero \n",
    "altura_mulheres = data.loc[data['Genero'] == 'Female']['Altura cm'] \n",
    "altura_homens = data.loc[data['Genero'] == 'Male']['Altura cm']\n",
    "peso_mulheres = data.loc[data['Genero'] == 'Female']['Peso kg'] \n",
    "peso_homens = data.loc[data['Genero'] == 'Male']['Peso kg']"
   ]
  },
  {
   "cell_type": "code",
   "execution_count": 18,
   "id": "ef8a5dd1",
   "metadata": {
    "scrolled": false
   },
   "outputs": [
    {
     "name": "stderr",
     "output_type": "stream",
     "text": [
      "C:\\Users\\wende\\AppData\\Local\\Temp\\ipykernel_2296\\2967141880.py:14: UserWarning: FixedFormatter should only be used together with FixedLocator\n",
      "  ax.set_yticklabels(freq_rel)\n"
     ]
    },
    {
     "data": {
      "image/png": "[encoded data removed]",
      "text/plain": [
       "<Figure size 800x500 with 1 Axes>"
      ]
     },
     "metadata": {},
     "output_type": "display_data"
    }
   ],
   "source": [
    "# Visualizando histograma genero feminino\n",
    "gera_histograma(9, altura_mulheres, 'Altura Mulheres', 'Centimetros')"
   ]
  },
  {
   "cell_type": "markdown",
   "id": "ed8a805d",
   "metadata": {},
   "source": [
    "### Temos uma distribuição normal para abos os gráficos, tendo a media, mediana e moda centralizadas"
   ]
  },
  {
   "cell_type": "code",
   "execution_count": 19,
   "id": "89053051",
   "metadata": {
    "scrolled": false
   },
   "outputs": [
    {
     "name": "stderr",
     "output_type": "stream",
     "text": [
      "C:\\Users\\wende\\AppData\\Local\\Temp\\ipykernel_2296\\2967141880.py:14: UserWarning: FixedFormatter should only be used together with FixedLocator\n",
      "  ax.set_yticklabels(freq_rel)\n"
     ]
    },
    {
     "data": {
      "image/png": "[encoded data removed]",
      "text/plain": [
       "<Figure size 800x500 with 1 Axes>"
      ]
     },
     "metadata": {},
     "output_type": "display_data"
    }
   ],
   "source": [
    "# Visualizando histograma genero masculino\n",
    "gera_histograma(9, altura_homens, 'Altura Homens', 'Centimetros')"
   ]
  },
  {
   "cell_type": "code",
   "execution_count": 20,
   "id": "9e628bde",
   "metadata": {},
   "outputs": [
    {
     "name": "stderr",
     "output_type": "stream",
     "text": [
      "C:\\Users\\wende\\AppData\\Local\\Temp\\ipykernel_2296\\2967141880.py:14: UserWarning: FixedFormatter should only be used together with FixedLocator\n",
      "  ax.set_yticklabels(freq_rel)\n"
     ]
    },
    {
     "data": {
      "image/png": "[encoded data removed]",
      "text/plain": [
       "<Figure size 800x500 with 1 Axes>"
      ]
     },
     "metadata": {},
     "output_type": "display_data"
    }
   ],
   "source": [
    "# Analisando a distribuição do peso das mulheres\n",
    "gera_histograma(9, peso_mulheres, 'Peso Mulheres', 'Kg')"
   ]
  },
  {
   "cell_type": "code",
   "execution_count": 21,
   "id": "0c80b6bf",
   "metadata": {},
   "outputs": [
    {
     "name": "stderr",
     "output_type": "stream",
     "text": [
      "C:\\Users\\wende\\AppData\\Local\\Temp\\ipykernel_2296\\2967141880.py:14: UserWarning: FixedFormatter should only be used together with FixedLocator\n",
      "  ax.set_yticklabels(freq_rel)\n"
     ]
    },
    {
     "data": {
      "image/png": "[encoded data removed]",
      "text/plain": [
       "<Figure size 800x500 with 1 Axes>"
      ]
     },
     "metadata": {},
     "output_type": "display_data"
    }
   ],
   "source": [
    "# Analisando a distribuição do peso dos homens\n",
    "gera_histograma(9, peso_homens, 'Peso Homens', 'Kg')"
   ]
  },
  {
   "cell_type": "markdown",
   "id": "b5cb414b",
   "metadata": {},
   "source": [
    "### Variância e Desvio Padrão\n",
    "\n",
    "* Variância é a dispersão dos dados em relação a média\n",
    "* Desvio-padrão é a raiz quadrada da variância"
   ]
  },
  {
   "cell_type": "markdown",
   "id": "7cecb854",
   "metadata": {},
   "source": [
    "Para extrairmos a variância calculando cada um dos elementos precisamos da média, diminuindo cada elemento pela média elevando ao quadrado e somando um por um, dividindo pelo tamanho do conjunto menos 1 iremos obter a variância do conjunto."
   ]
  },
  {
   "cell_type": "code",
   "execution_count": 22,
   "id": "6b01dcc5",
   "metadata": {},
   "outputs": [
    {
     "data": {
      "text/plain": [
       "1490    172.0\n",
       "692     167.0\n",
       "1435    171.0\n",
       "1116    170.0\n",
       "3674    180.0\n",
       "Name: Altura cm, dtype: float64"
      ]
     },
     "execution_count": 22,
     "metadata": {},
     "output_type": "execute_result"
    }
   ],
   "source": [
    "# Vamos obter uma variaval com uma amostra da altura dos homens\n",
    "dados = altura_homens.sample(5)\n",
    "dados"
   ]
  },
  {
   "cell_type": "code",
   "execution_count": 23,
   "id": "4172f041",
   "metadata": {},
   "outputs": [],
   "source": [
    "# Precisamos da média da amostra\n",
    "media =dados.mean()"
   ]
  },
  {
   "cell_type": "code",
   "execution_count": 24,
   "id": "bd16174c",
   "metadata": {},
   "outputs": [
    {
     "data": {
      "text/plain": [
       "172.0"
      ]
     },
     "execution_count": 24,
     "metadata": {},
     "output_type": "execute_result"
    }
   ],
   "source": [
    "# Convertendo para uma lista\n",
    "dados = dados.values\n",
    "dados[0]"
   ]
  },
  {
   "cell_type": "code",
   "execution_count": 25,
   "id": "45ec9431",
   "metadata": {},
   "outputs": [
    {
     "data": {
      "text/plain": [
       "23.5"
      ]
     },
     "execution_count": 25,
     "metadata": {},
     "output_type": "execute_result"
    }
   ],
   "source": [
    "# Para gerar a variância em calculos normais seria assim\n",
    "var = ((dados[0]-media)**2 + (dados[1]-media)**2 + (dados[2]-media)**2 + \n",
    "       (dados[3]-media)**2 + (dados[4]-media)**2)/(len(dados)-1)\n",
    "var"
   ]
  },
  {
   "cell_type": "code",
   "execution_count": 26,
   "id": "20a957ae",
   "metadata": {},
   "outputs": [
    {
     "data": {
      "text/plain": [
       "23.5"
      ]
     },
     "execution_count": 26,
     "metadata": {},
     "output_type": "execute_result"
    }
   ],
   "source": [
    "# Tirando a prova real da variÂncia\n",
    "stats.variance(dados)"
   ]
  },
  {
   "cell_type": "code",
   "execution_count": 27,
   "id": "b773db05",
   "metadata": {},
   "outputs": [
    {
     "data": {
      "text/plain": [
       "4.847679857416329"
      ]
     },
     "execution_count": 27,
     "metadata": {},
     "output_type": "execute_result"
    }
   ],
   "source": [
    "# Obtendo o desvio padrão de módulo calculado\n",
    "(var ** (1/2))"
   ]
  },
  {
   "cell_type": "code",
   "execution_count": 28,
   "id": "8e7ba39a",
   "metadata": {},
   "outputs": [
    {
     "data": {
      "text/plain": [
       "4.847679857416329"
      ]
     },
     "execution_count": 28,
     "metadata": {},
     "output_type": "execute_result"
    }
   ],
   "source": [
    "# Tirando a prova do desvio padrão\n",
    "math.sqrt(var)  # Usando o módulo matematico math\n",
    "stats.stdev(dados)  # Usando o módulo estatístico statistics"
   ]
  },
  {
   "cell_type": "markdown",
   "id": "8713270e",
   "metadata": {},
   "source": [
    "### Coeficiente de Variação"
   ]
  },
  {
   "cell_type": "code",
   "execution_count": 29,
   "id": "c3cc59fd",
   "metadata": {},
   "outputs": [
    {
     "data": {
      "text/plain": [
       "'4.23%'"
      ]
     },
     "execution_count": 29,
     "metadata": {},
     "output_type": "execute_result"
    }
   ],
   "source": [
    "# para sabermos o coeficiente de variação da altura das mulheres e homens precisamo da média e desvio\n",
    "dp_mulheres = stats.stdev(altura_mulheres)  # Desvio-Padrão\n",
    "med_mulheres = stats.mean(altura_mulheres)  # Média\n",
    "\n",
    "# Para gerar o coeficiente é so usar a formula CV= dp / med\n",
    "cv_mulheres = dp_mulheres / med_mulheres\n",
    "pct(cv_mulheres)"
   ]
  },
  {
   "cell_type": "code",
   "execution_count": 30,
   "id": "72c7c866",
   "metadata": {},
   "outputs": [
    {
     "data": {
      "text/plain": [
       "'4.16%'"
      ]
     },
     "execution_count": 30,
     "metadata": {},
     "output_type": "execute_result"
    }
   ],
   "source": [
    "# Agora usando os dados dos homens\n",
    "med_homens = stats.mean(altura_homens)  # Média\n",
    "dp_homens = stats.stdev(altura_homens)  # Desvio\n",
    "\n",
    "# O coeficiente da altura dos homens\n",
    "cv_homens = dp_homens / med_homens\n",
    "pct(cv_homens)"
   ]
  },
  {
   "cell_type": "code",
   "execution_count": 31,
   "id": "c630e8dd",
   "metadata": {},
   "outputs": [
    {
     "data": {
      "text/plain": [
       "'14.00%'"
      ]
     },
     "execution_count": 31,
     "metadata": {},
     "output_type": "execute_result"
    }
   ],
   "source": [
    "# E o coeficiente de variação do peso das mulheres?\n",
    "dp_mulheres = stats.stdev(peso_mulheres)  # Desvio-Padrão\n",
    "med_mulheres = stats.mean(peso_mulheres)  # Média\n",
    "\n",
    "# Para gerar o coeficiente é so usar a formula CV= dp / med\n",
    "cv_mulheres = dp_mulheres / med_mulheres\n",
    "pct(cv_mulheres)"
   ]
  },
  {
   "cell_type": "code",
   "execution_count": 32,
   "id": "3d26c4c7",
   "metadata": {},
   "outputs": [
    {
     "data": {
      "text/plain": [
       "'10.58%'"
      ]
     },
     "execution_count": 32,
     "metadata": {},
     "output_type": "execute_result"
    }
   ],
   "source": [
    "# Agora usando os dados dos homens\n",
    "med_homens = stats.mean(peso_homens)  # Média\n",
    "dp_homens = stats.stdev(peso_homens)  # Desvio\n",
    "\n",
    "# O coeficiente da altura dos homens\n",
    "cv_homens = dp_homens / med_homens\n",
    "pct(cv_homens)"
   ]
  },
  {
   "cell_type": "markdown",
   "id": "94e98782",
   "metadata": {},
   "source": [
    "### Covariância\n",
    "\n",
    "Calculando a covariância como seria feito na mão"
   ]
  },
  {
   "cell_type": "code",
   "execution_count": 33,
   "id": "e45290f3",
   "metadata": {
    "scrolled": true
   },
   "outputs": [
    {
     "data": {
      "text/html": [
       "<div>\n",
       "<style scoped>\n",
       "    .dataframe tbody tr th:only-of-type {\n",
       "        vertical-align: middle;\n",
       "    }\n",
       "\n",
       "    .dataframe tbody tr th {\n",
       "        vertical-align: top;\n",
       "    }\n",
       "\n",
       "    .dataframe thead th {\n",
       "        text-align: right;\n",
       "    }\n",
       "</style>\n",
       "<table border=\"1\" class=\"dataframe\">\n",
       "  <thead>\n",
       "    <tr style=\"text-align: right;\">\n",
       "      <th></th>\n",
       "      <th>Altura cm</th>\n",
       "      <th>Peso kg</th>\n",
       "    </tr>\n",
       "  </thead>\n",
       "  <tbody>\n",
       "    <tr>\n",
       "      <th>0</th>\n",
       "      <td>188.0</td>\n",
       "      <td>109.7</td>\n",
       "    </tr>\n",
       "    <tr>\n",
       "      <th>1</th>\n",
       "      <td>175.0</td>\n",
       "      <td>73.6</td>\n",
       "    </tr>\n",
       "    <tr>\n",
       "      <th>2</th>\n",
       "      <td>188.0</td>\n",
       "      <td>96.5</td>\n",
       "    </tr>\n",
       "    <tr>\n",
       "      <th>3</th>\n",
       "      <td>182.0</td>\n",
       "      <td>99.8</td>\n",
       "    </tr>\n",
       "    <tr>\n",
       "      <th>4</th>\n",
       "      <td>177.0</td>\n",
       "      <td>93.6</td>\n",
       "    </tr>\n",
       "  </tbody>\n",
       "</table>\n",
       "</div>"
      ],
      "text/plain": [
       "   Altura cm  Peso kg\n",
       "0      188.0    109.7\n",
       "1      175.0     73.6\n",
       "2      188.0     96.5\n",
       "3      182.0     99.8\n",
       "4      177.0     93.6"
      ]
     },
     "execution_count": 33,
     "metadata": {},
     "output_type": "execute_result"
    }
   ],
   "source": [
    "# Precisamos dos dados de x e y, que seria altura e peso\n",
    "# Separando uma amostra dos dados\n",
    "df_cov = data[['Altura cm', 'Peso kg']].head()\n",
    "df_cov"
   ]
  },
  {
   "cell_type": "code",
   "execution_count": 34,
   "id": "37412e0c",
   "metadata": {},
   "outputs": [],
   "source": [
    "# gerando a media de altura e peso\n",
    "med_altura = df_cov['Altura cm'].mean()\n",
    "med_peso = df_cov['Peso kg'].mean()"
   ]
  },
  {
   "cell_type": "code",
   "execution_count": 35,
   "id": "9d114f10",
   "metadata": {},
   "outputs": [],
   "source": [
    "# lista para receber os valores\n",
    "cov_lista = []"
   ]
  },
  {
   "cell_type": "code",
   "execution_count": 36,
   "id": "347ebada",
   "metadata": {},
   "outputs": [],
   "source": [
    "# Precisamos calcular cada valor dentro da amostra, criando um loop para facilitar\n",
    "for i in range(0,len(df_cov)):\n",
    "    cov_lista.append((df_cov['Altura cm'][i]-med_altura)*(df_cov['Peso kg'][i]-med_peso))"
   ]
  },
  {
   "cell_type": "code",
   "execution_count": 37,
   "id": "6dba79a7",
   "metadata": {},
   "outputs": [
    {
     "data": {
      "text/plain": [
       "[90.35999999999993,\n",
       " 147.28000000000014,\n",
       " 11.159999999999911,\n",
       " 0.0,\n",
       " 5.200000000000102]"
      ]
     },
     "execution_count": 37,
     "metadata": {},
     "output_type": "execute_result"
    }
   ],
   "source": [
    "# Visualizando a lista com os valores\n",
    "cov_lista"
   ]
  },
  {
   "cell_type": "code",
   "execution_count": 38,
   "id": "ed707da4",
   "metadata": {},
   "outputs": [
    {
     "data": {
      "text/plain": [
       "63.50000000000002"
      ]
     },
     "execution_count": 38,
     "metadata": {},
     "output_type": "execute_result"
    }
   ],
   "source": [
    "# Precisamos somar todos os valores da lista e dividir pelo tamanho da amostra -1\n",
    "cov = sum(cov_lista)/(len(df_cov)-1)  # Temos o valor da covariância\n",
    "cov"
   ]
  },
  {
   "cell_type": "markdown",
   "id": "7f8796d2",
   "metadata": {},
   "source": [
    "### Coeficiente de Correlação\n",
    "\n",
    "Cov(x,y) / stdev(x) * stdev(y)"
   ]
  },
  {
   "cell_type": "code",
   "execution_count": 39,
   "id": "e5978489",
   "metadata": {},
   "outputs": [
    {
     "name": "stdout",
     "output_type": "stream",
     "text": [
      "Desvio Altura: 6.041522986797286 | Desvio Peso: 13.234915942309572\n"
     ]
    }
   ],
   "source": [
    "# desvio padrão\n",
    "dp_altura = stats.stdev(df_cov['Altura cm'])\n",
    "dp_peso = stats.stdev(df_cov['Peso kg'])\n",
    "\n",
    "print(f'Desvio Altura: {dp_altura} | Desvio Peso: {dp_peso}')"
   ]
  },
  {
   "cell_type": "code",
   "execution_count": 40,
   "id": "17f15acc",
   "metadata": {},
   "outputs": [
    {
     "data": {
      "text/plain": [
       "'79.42%'"
      ]
     },
     "execution_count": 40,
     "metadata": {},
     "output_type": "execute_result"
    }
   ],
   "source": [
    "# Para ter o coeficiente de correlação é so pegar a covariancia e dividir pelos desvios\n",
    "coef_corr = cov / (dp_altura * dp_peso)\n",
    "\n",
    "# Temos 79,42% de correlação entre as amostras de Altura e Peso \n",
    "# significa que a altura consegue explicar o peso tendo uma relação e um porque\n",
    "pct(coef_corr)"
   ]
  },
  {
   "cell_type": "code",
   "execution_count": 41,
   "id": "05ee68e5",
   "metadata": {},
   "outputs": [
    {
     "data": {
      "text/html": [
       "<div>\n",
       "<style scoped>\n",
       "    .dataframe tbody tr th:only-of-type {\n",
       "        vertical-align: middle;\n",
       "    }\n",
       "\n",
       "    .dataframe tbody tr th {\n",
       "        vertical-align: top;\n",
       "    }\n",
       "\n",
       "    .dataframe thead th {\n",
       "        text-align: right;\n",
       "    }\n",
       "</style>\n",
       "<table border=\"1\" class=\"dataframe\">\n",
       "  <thead>\n",
       "    <tr style=\"text-align: right;\">\n",
       "      <th></th>\n",
       "      <th>Altura cm</th>\n",
       "      <th>Peso kg</th>\n",
       "    </tr>\n",
       "  </thead>\n",
       "  <tbody>\n",
       "    <tr>\n",
       "      <th>Altura cm</th>\n",
       "      <td>1.000000</td>\n",
       "      <td>0.794157</td>\n",
       "    </tr>\n",
       "    <tr>\n",
       "      <th>Peso kg</th>\n",
       "      <td>0.794157</td>\n",
       "      <td>1.000000</td>\n",
       "    </tr>\n",
       "  </tbody>\n",
       "</table>\n",
       "</div>"
      ],
      "text/plain": [
       "           Altura cm   Peso kg\n",
       "Altura cm   1.000000  0.794157\n",
       "Peso kg     0.794157  1.000000"
      ]
     },
     "execution_count": 41,
     "metadata": {},
     "output_type": "execute_result"
    }
   ],
   "source": [
    "# Usando o módulo corr para ter a prova real\n",
    "df_cov.corr()  # Temos 0.7941 - 79,41% "
   ]
  },
  {
   "cell_type": "code",
   "execution_count": 42,
   "id": "d50277c5",
   "metadata": {},
   "outputs": [
    {
     "data": {
      "text/plain": [
       "<matplotlib.collections.PathCollection at 0x2519e0b1540>"
      ]
     },
     "execution_count": 42,
     "metadata": {},
     "output_type": "execute_result"
    },
    {
     "data": {
      "image/png": "[encoded data removed]",
      "text/plain": [
       "<Figure size 640x480 with 1 Axes>"
      ]
     },
     "metadata": {},
     "output_type": "display_data"
    }
   ],
   "source": [
    "# É visivel a relação entre os dados, é comum ver uma pessoa acima de 1.80 ter um peso proximo a 100kg\n",
    "# assim como menor o tamanho menos peso a pessoa terá.\n",
    "plt.scatter(df_cov['Altura cm'], df_cov['Peso kg'])"
   ]
  },
  {
   "cell_type": "code",
   "execution_count": 43,
   "id": "c77b81f4",
   "metadata": {},
   "outputs": [],
   "source": [
    "# Importando o Seaborn \n",
    "import seaborn as sns"
   ]
  },
  {
   "cell_type": "code",
   "execution_count": 44,
   "id": "28e24450",
   "metadata": {},
   "outputs": [
    {
     "data": {
      "text/plain": [
       "<Axes: xlabel='Altura cm', ylabel='Peso kg'>"
      ]
     },
     "execution_count": 44,
     "metadata": {},
     "output_type": "execute_result"
    },
    {
     "data": {
      "image/png": "[encoded data removed]",
      "text/plain": [
       "<Figure size 640x480 with 1 Axes>"
      ]
     },
     "metadata": {},
     "output_type": "display_data"
    }
   ],
   "source": [
    "sns.regplot(x=df_cov['Altura cm'],y= df_cov['Peso kg'])"
   ]
  },
  {
   "cell_type": "code",
   "execution_count": 45,
   "id": "b9edaa40",
   "metadata": {},
   "outputs": [],
   "source": [
    "# Verificando a relação de peso e altura por genero e visualizando no gráfico\n",
    "mulheres = data.loc[data['Genero'] == 'Female'][['Altura cm', 'Peso kg']] \n",
    "homens = data.loc[data['Genero'] == 'Male'][['Altura cm', 'Peso kg']]"
   ]
  },
  {
   "cell_type": "code",
   "execution_count": 46,
   "id": "f8d65e4e",
   "metadata": {},
   "outputs": [
    {
     "data": {
      "text/html": [
       "<div>\n",
       "<style scoped>\n",
       "    .dataframe tbody tr th:only-of-type {\n",
       "        vertical-align: middle;\n",
       "    }\n",
       "\n",
       "    .dataframe tbody tr th {\n",
       "        vertical-align: top;\n",
       "    }\n",
       "\n",
       "    .dataframe thead th {\n",
       "        text-align: right;\n",
       "    }\n",
       "</style>\n",
       "<table border=\"1\" class=\"dataframe\">\n",
       "  <thead>\n",
       "    <tr style=\"text-align: right;\">\n",
       "      <th></th>\n",
       "      <th>Altura cm</th>\n",
       "      <th>Peso kg</th>\n",
       "    </tr>\n",
       "  </thead>\n",
       "  <tbody>\n",
       "    <tr>\n",
       "      <th>Altura cm</th>\n",
       "      <td>1.000000</td>\n",
       "      <td>0.862458</td>\n",
       "    </tr>\n",
       "    <tr>\n",
       "      <th>Peso kg</th>\n",
       "      <td>0.862458</td>\n",
       "      <td>1.000000</td>\n",
       "    </tr>\n",
       "  </tbody>\n",
       "</table>\n",
       "</div>"
      ],
      "text/plain": [
       "           Altura cm   Peso kg\n",
       "Altura cm   1.000000  0.862458\n",
       "Peso kg     0.862458  1.000000"
      ]
     },
     "execution_count": 46,
     "metadata": {},
     "output_type": "execute_result"
    }
   ],
   "source": [
    "# Correlação entre os dados\n",
    "homens.corr()"
   ]
  },
  {
   "cell_type": "code",
   "execution_count": 47,
   "id": "f7da2305",
   "metadata": {},
   "outputs": [
    {
     "data": {
      "text/html": [
       "<div>\n",
       "<style scoped>\n",
       "    .dataframe tbody tr th:only-of-type {\n",
       "        vertical-align: middle;\n",
       "    }\n",
       "\n",
       "    .dataframe tbody tr th {\n",
       "        vertical-align: top;\n",
       "    }\n",
       "\n",
       "    .dataframe thead th {\n",
       "        text-align: right;\n",
       "    }\n",
       "</style>\n",
       "<table border=\"1\" class=\"dataframe\">\n",
       "  <thead>\n",
       "    <tr style=\"text-align: right;\">\n",
       "      <th></th>\n",
       "      <th>Altura cm</th>\n",
       "      <th>Peso kg</th>\n",
       "    </tr>\n",
       "  </thead>\n",
       "  <tbody>\n",
       "    <tr>\n",
       "      <th>Altura cm</th>\n",
       "      <td>1.00000</td>\n",
       "      <td>0.84897</td>\n",
       "    </tr>\n",
       "    <tr>\n",
       "      <th>Peso kg</th>\n",
       "      <td>0.84897</td>\n",
       "      <td>1.00000</td>\n",
       "    </tr>\n",
       "  </tbody>\n",
       "</table>\n",
       "</div>"
      ],
      "text/plain": [
       "           Altura cm  Peso kg\n",
       "Altura cm    1.00000  0.84897\n",
       "Peso kg      0.84897  1.00000"
      ]
     },
     "execution_count": 47,
     "metadata": {},
     "output_type": "execute_result"
    }
   ],
   "source": [
    "# Correlação entre os dados\n",
    "mulheres.corr()"
   ]
  },
  {
   "cell_type": "code",
   "execution_count": 48,
   "id": "e09e5205",
   "metadata": {},
   "outputs": [
    {
     "data": {
      "text/plain": [
       "<Axes: xlabel='Altura cm', ylabel='Peso kg'>"
      ]
     },
     "execution_count": 48,
     "metadata": {},
     "output_type": "execute_result"
    },
    {
     "data": {
      "image/png": "[encoded data removed]",
      "text/plain": [
       "<Figure size 640x480 with 1 Axes>"
      ]
     },
     "metadata": {},
     "output_type": "display_data"
    }
   ],
   "source": [
    "# Visualizando os dados em gráfico\n",
    "sns.regplot(x=mulheres['Altura cm'][2000:2100], y=mulheres['Peso kg'][2000:2100])\n",
    "\n",
    "# Temos a relação de uma amostra de 100 individuos, validando a relação de peso e altura"
   ]
  },
  {
   "cell_type": "code",
   "execution_count": 49,
   "id": "e16ada2c",
   "metadata": {},
   "outputs": [
    {
     "data": {
      "text/plain": [
       "<Axes: xlabel='Altura cm', ylabel='Peso kg'>"
      ]
     },
     "execution_count": 49,
     "metadata": {},
     "output_type": "execute_result"
    },
    {
     "data": {
      "image/png": "[encoded data removed]",
      "text/plain": [
       "<Figure size 640x480 with 1 Axes>"
      ]
     },
     "metadata": {},
     "output_type": "display_data"
    }
   ],
   "source": [
    "sns.regplot(x=homens['Altura cm'][2000:2100], y=homens['Peso kg'][2000:2100])"
   ]
  },
  {
   "cell_type": "markdown",
   "id": "c44f9b5c",
   "metadata": {},
   "source": [
    "## Probabilidade\n",
    "\n",
    "* **Espaço Amostral**: todos os resultados possíveis (moeda: K,C)\n",
    "* **Probabilidade**: chance de um evento ocorrer\n",
    "    * Escala de 0 a 1\n",
    "        * 0 ==> certo de que **não vai acontecer**\n",
    "        * 1 ==> certo que **vai acontecer**\n",
    "        * 0.5 ==> **igualmente** possível de acontecer ou de não acontecer\n",
    "        * Ex1: **0.05 provavelmente não** vai acontecer, mas pode acontecer\n",
    "        * Ex2: **0.95 provavelmente vai** acontecer, mas pode não acontecer"
   ]
  },
  {
   "cell_type": "markdown",
   "id": "ae9c7420",
   "metadata": {},
   "source": [
    "<center><strong>Probabilidade Teórica</strong>: o que a gente espera que aconteça ou o que deveria acontecer</center>\n",
    "$$P(E) = {\\frac {resultados} {espaço amostral}}$$"
   ]
  },
  {
   "cell_type": "markdown",
   "id": "5bed44c6",
   "metadata": {},
   "source": [
    "<center>Ex: Jogar uma moeda pro alto. Se quero cara.</center>\n",
    "$$P(K) = {\\frac {1} {2}}=0.5$$"
   ]
  },
  {
   "cell_type": "markdown",
   "id": "fc981256",
   "metadata": {},
   "source": [
    "<center><strong>Probabilidade Empírica</strong>: a chance de algo acontecer baseado no que aconteceu em algum experimento</center>\n",
    "<center>Ex: Jogar uma moeda pro alto 100 vezes. Obtenho 56 caras.</center>\n",
    "$$P(K) = {\\frac {56} {100}}=0.56$$"
   ]
  },
  {
   "cell_type": "markdown",
   "id": "5ceee4ac",
   "metadata": {},
   "source": [
    "<strong>Lei dos grandes números (LGN)</strong>: quanto mais experimentos eu faço, mais perto a probabilidade empírica se aproxima da probabilidade teórica\n",
    "<p>\n",
    "    Ex: Se jogar uma moeda pro alto 10.000 vezes, estará mais perto de 50% de probabilidade de dar cara do que jogando apenas 100 vezes. Se jogar 1.000.000 vezes, mais perto de 50% estará do que 10.000 vezes..."
   ]
  },
  {
   "cell_type": "code",
   "execution_count": null,
   "id": "a921a72a",
   "metadata": {},
   "outputs": [],
   "source": []
  },
  {
   "cell_type": "markdown",
   "id": "45368325",
   "metadata": {},
   "source": [
    "<center><strong>Probabilidade condicional</strong>: P(B|A) >> probabilidade de B considerando que A já ocorreu</center><br>\n",
    "$$P(B|A) = {\\frac {P(A \\cap B)} {P(A)}}$$"
   ]
  },
  {
   "cell_type": "markdown",
   "id": "c95acc3d",
   "metadata": {},
   "source": [
    "<center><strong>e: P(A e B)</strong>: probabilidade dos dois ocorrerem juntos</center><br>\n",
    "$$P(A \\cap B) = {P(A)}\\cdot{P(B|A)}$$"
   ]
  },
  {
   "cell_type": "markdown",
   "id": "0ae8d804",
   "metadata": {},
   "source": [
    "<center><strong>ou: P(A ou B)</strong>: probabilidade de A ocorrer ou B ocorrer ou os dois ocorrerem</center><br>\n",
    "$$P(A \\cup B) = {P(A)}+{P(B)}-{P(A \\cap B)}$$"
   ]
  },
  {
   "cell_type": "markdown",
   "id": "0bcd0747",
   "metadata": {},
   "source": [
    "<center><strong>Exercícios</strong>: oito cartas de UNO, sendo quatro azul e quatro vermelhas.</center>\n",
    "<img src=\"imagens/redblue.png\"\n",
    "     alt=\"Uno\"\n",
    "     width=300px />"
   ]
  },
  {
   "cell_type": "markdown",
   "id": "e7f4f6db",
   "metadata": {},
   "source": [
    "<center>1. Probabilidade de ser Azul <strong>e</strong> Par</center><br>\n",
    "$$P(Azul \\cap Par) = {\\frac {4} {8}}\\cdot{\\frac {2} {4}} = {\\frac {1} {2}}\\cdot{\\frac {1} {2}}={\\frac {1} {4}}=0.25$$"
   ]
  },
  {
   "cell_type": "markdown",
   "id": "7bea1221",
   "metadata": {},
   "source": [
    "<center>2. Probabilidade de ser Azul sabendo que a carta <strong>é Par</strong></center><br>\n",
    "$$P(Azul|Par) = {\\frac {P(Azul \\cap Par)} {P(Par)}}={\\frac {2/8} {4/8}}={\\frac {2} {4}}={\\frac {1} {2}}=0.5$$"
   ]
  },
  {
   "cell_type": "markdown",
   "id": "873cb38b",
   "metadata": {},
   "source": [
    "<center>3. Probabilidade de ser Azul <strong>ou</strong> Par</center><br>\n",
    "$$P(Azul \\cup Par) = P(Azul)+P(Par)-P(Azul \\cap Par)={\\frac {4} {8}}+{\\frac {4} {8}}-{\\frac {2} {8}}={\\frac {6} {8}}={\\frac {3} {4}}=0.75$$"
   ]
  },
  {
   "cell_type": "markdown",
   "id": "f0f7fc5d",
   "metadata": {},
   "source": [
    "<center>4. Probabilidade de pegar aleatoriamente duas cartas Azul <strong>sem substituição</strong></center><br>\n",
    "$$P(Azul_1 \\cap Azul_2) = P(Azul_1)\\cdot{P(Azul_2)} ={\\frac {4} {8}}\\cdot{\\frac {3} {7}}={\\frac {1} {2}}\\cdot{\\frac {3} {7}}={\\frac {3} {14}}=0.2143$$"
   ]
  },
  {
   "cell_type": "code",
   "execution_count": null,
   "id": "45420f28",
   "metadata": {},
   "outputs": [],
   "source": []
  },
  {
   "cell_type": "markdown",
   "id": "60e5fd8d",
   "metadata": {},
   "source": [
    "**Eventos independentes**: quando um evento ocorre não modifica a chance de outro evento ocorrer. <br />\n",
    "Ex: Cara ou Coroa. Podemos representá-los de três formas:\n",
    "* $P(A|B) = P(A)$\n",
    "* $P(B|A) = P(B)$\n",
    "* $P(A \\cap B) = P(A)\\cdot{P(B)}$"
   ]
  },
  {
   "cell_type": "markdown",
   "id": "3b0d5168",
   "metadata": {},
   "source": [
    "**Mutuamente Exclusivo**: ambos não podem acontecer ao mesmo tempo.<br />\n",
    "Ex: Ao jogar um cubo, sejam A = números ímpares menores do que 4, B = números maiores do que 3\n",
    "* $A=[1,3]$ \n",
    "* $B=[4,5,6]$\n",
    "* $P(A \\cap B) = 0$"
   ]
  },
  {
   "cell_type": "code",
   "execution_count": null,
   "id": "b4d7e5df",
   "metadata": {},
   "outputs": [],
   "source": []
  },
  {
   "cell_type": "markdown",
   "id": "6df5f892",
   "metadata": {},
   "source": [
    "<center><h1> Diagrama de Árvore</h1>\n",
    "Uma maneira de solucionar problemas de Probabilidade Condicional\n",
    "<img src=\"imagens/6cards.png\" alt=\"Uno\" width=200px />\n",
    "</center>"
   ]
  },
  {
   "cell_type": "markdown",
   "id": "9bfaf558",
   "metadata": {},
   "source": [
    "Considerando a imagem acima, onde temos um total de 6 cartas, sendo 2 azuis e 4 vermelhas. Ao colocar essas cartas numa bolsa, retiraremos duas cartas em sequência, sem substituição. Responda qual a probabilidade em cada um dos seguintes cenários:\n",
    "\n",
    "    1. Azul na primeira, Azul na segunda.\n",
    "    2. Azul na primeira, Vermelha na segunda.\n",
    "    3. Vermelha na primeira, Azul na segunda.\n",
    "    4. Vermelha na primeira, Vermelha na segunda."
   ]
  },
  {
   "cell_type": "markdown",
   "id": "074aa3fa",
   "metadata": {},
   "source": [
    "<img src=\"imagens/arvore.png\"  width=900px/>"
   ]
  },
  {
   "cell_type": "code",
   "execution_count": null,
   "id": "2584b545",
   "metadata": {},
   "outputs": [],
   "source": []
  },
  {
   "cell_type": "markdown",
   "id": "022c4905",
   "metadata": {},
   "source": [
    "<center><h1>Probabilidade Condicional x Teorema de Bayes</h1></center>"
   ]
  },
  {
   "cell_type": "markdown",
   "id": "173296c9",
   "metadata": {},
   "source": [
    "<center>\n",
    "    <h3>Probabilidade Condicional</h3>  \n",
    "      Probabilidade da carta ser <strong>vermelha</strong> sabendo que a carta <strong>é ímpar</strong>\n",
    "</center><br>\n",
    "$$P(vermelha|ímpar) = {\\frac {P(vermelha \\cap ímpar)} {P(ímpar)}}={\\frac {2/6} {4/6}}={\\frac {1/3} {2/3}}={\\frac {1} {2}}=0.5$$"
   ]
  },
  {
   "cell_type": "markdown",
   "id": "91db6fa7",
   "metadata": {},
   "source": [
    "<center><h1>Teorema de Bayes</h1>\n",
    "Uma forma de calcular probabilidade condicional de uma hipótese dada uma nova evidência. $P(A|B)$\n",
    "</center><br />\n",
    "\n",
    "$$P(A|B) = {\\frac {P(B|A)\\cdot P(A)} {P(B)}}$$"
   ]
  },
  {
   "cell_type": "markdown",
   "id": "7454d8ab",
   "metadata": {},
   "source": [
    "O Teorema de Bayes depende de três fatores:\n",
    "1. A probabilidade de um evento ocorrer dada uma Hipótese $P(B|A)$\n",
    "2. Probabilidade anterior da Hipótese $P(A)$\n",
    "3. Probabilidade anterior da Evidência $P(B)$"
   ]
  },
  {
   "cell_type": "markdown",
   "id": "fbd07a4d",
   "metadata": {},
   "source": [
    "Probabilidade de ter escolhido uma carta vermelha, sabendo que a carta é ímpar.\n",
    "\n",
    "* <strong>A</strong> = carta vermelha\n",
    "* <strong>B</strong> = carta ímpar\n",
    "\n",
    " * $P(A|B) = P(vermelha|ímpar) = ?$ \n",
    " * $P(B|A) = P(ímpar|vermelha) = 1/2$  \n",
    " * $P(A) = P(vermelha) = 4/6 = 2/3$\n",
    " * $P(B) = P(ímpar) = 4/6 = 2/3$\n",
    "\n",
    "$$P(vermelha|ímpar) = {\\frac {{1/2} \\cdot {2/3}} {2/3}}={\\frac {1}{2}}=0.5$$"
   ]
  },
  {
   "cell_type": "markdown",
   "id": "7f4f0911",
   "metadata": {},
   "source": [
    "<h3>Teorema de Bayes</h3>\n",
    "Considere duas moedas em uma bolsa: uma comum, outra viciada (possui cara nos dois lados).\n",
    "Você retira uma moeda sem ver qual está pegando, joga para o alto, dá cara. Qual a probabilidade de você ter escolhido a moeda viciada sabendo que deu cara?\n",
    "\n",
    "* <strong>A</strong> = moeda viciada\n",
    "* <strong>B</strong> = cara\n",
    "\n",
    " * $P(A|B) = P(viciada|cara) = ?$ \n",
    " * $P(B|A) = P(cara|viciada) = 1$ # 100% \n",
    " * $P(A) = P(viciada) = 1/2$\n",
    " * $P(B) = P(cara) = 3/4$ \n",
    " \n",
    "$$P(viciada|cara) = {\\frac {{1} \\cdot {1/2}} {3/4}}={\\frac {1} {2}} \\cdot {\\frac {4} {3}}={\\frac {4} {6}}={\\frac {2}{3}}=0.6666$$"
   ]
  },
  {
   "cell_type": "markdown",
   "id": "351ec94a",
   "metadata": {},
   "source": [
    "<center>\n",
    "    <h3>Probabilidade Condicional</h3>  \n",
    "      probabilidade de você ter <strong>escolhido a moeda viciada</strong> sabendo que deu <strong>cara</strong>\n",
    "</center><br>\n",
    "$$P(viciada|cara) = {\\frac {P(viciada \\cdot cara)} {P(cara)}}={\\frac {1/2 \\cdot 1} {3/4}}={\\frac {1} {2}} \\cdot {\\frac {4} {3}}={\\frac {4} {6}}={\\frac {2} {3}}=0.6666$$"
   ]
  },
  {
   "cell_type": "markdown",
   "id": "308b1d13",
   "metadata": {},
   "source": [
    "**Conclusão**: como observado, ambas as fórmulas produzem o mesmo resultado, porém a forma de interpretar é diferente."
   ]
  },
  {
   "cell_type": "markdown",
   "id": "e2ddbac3",
   "metadata": {},
   "source": [
    "# Teorema do Limite Central\n",
    "* **Médias Amostrais**: médias geradas de amostras, geralmente com o propósito de gerar probabilidades\n",
    "* A média de médias amostrais deve ser mais próxima da média da população com um desvio padrão pequeno\n",
    "* Quanto maior a quantidade de amostras e médias amostrais utilizadas, mais próximo estará da média geral da População e menor o desvio padrão"
   ]
  },
  {
   "cell_type": "markdown",
   "id": "0ab7ea60",
   "metadata": {},
   "source": [
    "<center><h2>Exemplo: Cubo</h2>\n",
    "Consideremos um dado de seis lados. A probabilidade de dar qualquer valor entre 1 e 6 é de ${\\frac {1}{6}}$ ou seja, todos os valores são igualmente possíveis de ocorrer. O conjunto de números possíveis são $[1,2,3,4,5,6]$. Ao realizar a média desse conjunto $(1+2+3+4+5+6)/6$, obtivemos <strong>3.5</strong>.\n",
    "<img src=\"imagens/dado.jpg\" alt=\"Dado\" width=300px />\n",
    "</center>"
   ]
  },
  {
   "cell_type": "markdown",
   "id": "209e4b0f",
   "metadata": {},
   "source": [
    "### Importar numpy e matplotlib"
   ]
  },
  {
   "cell_type": "code",
   "execution_count": 51,
   "id": "a5e12b9e",
   "metadata": {},
   "outputs": [],
   "source": [
    "import numpy as np\n",
    "import matplotlib.pyplot as plt"
   ]
  },
  {
   "cell_type": "markdown",
   "id": "de42bcc8",
   "metadata": {},
   "source": [
    "Média"
   ]
  },
  {
   "cell_type": "code",
   "execution_count": 57,
   "id": "32443671",
   "metadata": {},
   "outputs": [
    {
     "data": {
      "text/plain": [
       "3.5"
      ]
     },
     "execution_count": 57,
     "metadata": {},
     "output_type": "execute_result"
    }
   ],
   "source": [
    " np.mean([1,2,3,4,5,6])"
   ]
  },
  {
   "cell_type": "markdown",
   "id": "9ecea81b",
   "metadata": {},
   "source": [
    "Jogando os dados aleatoriamente"
   ]
  },
  {
   "cell_type": "code",
   "execution_count": 93,
   "id": "3914d3ca",
   "metadata": {},
   "outputs": [
    {
     "data": {
      "text/plain": [
       "4"
      ]
     },
     "execution_count": 93,
     "metadata": {},
     "output_type": "execute_result"
    }
   ],
   "source": [
    "np.random.randint(1, 7)"
   ]
  },
  {
   "cell_type": "markdown",
   "id": "b48658f6",
   "metadata": {},
   "source": [
    "Jogar dados aleatoriamente 6 vezes"
   ]
  },
  {
   "cell_type": "code",
   "execution_count": 106,
   "id": "2abdcda7",
   "metadata": {},
   "outputs": [
    {
     "data": {
      "text/plain": [
       "array([3, 4, 2, 2, 1, 2])"
      ]
     },
     "execution_count": 106,
     "metadata": {},
     "output_type": "execute_result"
    }
   ],
   "source": [
    "np.random.randint(1, 7, 6)"
   ]
  },
  {
   "cell_type": "markdown",
   "id": "ff61072b",
   "metadata": {},
   "source": [
    "Gerar os mesmos números aleatórios usando uma semente (seed) '123'"
   ]
  },
  {
   "cell_type": "code",
   "execution_count": 105,
   "id": "0cf9d3a4",
   "metadata": {},
   "outputs": [
    {
     "data": {
      "text/plain": [
       "array([6, 3, 5, 3, 2, 4])"
      ]
     },
     "execution_count": 105,
     "metadata": {},
     "output_type": "execute_result"
    }
   ],
   "source": [
    "np.random.seed(123)\n",
    "np.random.randint(1, 7, 6)"
   ]
  },
  {
   "cell_type": "markdown",
   "id": "f53f1dbe",
   "metadata": {},
   "source": [
    "Jogar dado aleatóriamente 40 vezes"
   ]
  },
  {
   "cell_type": "code",
   "execution_count": 112,
   "id": "7d197dc3",
   "metadata": {},
   "outputs": [
    {
     "data": {
      "text/plain": [
       "array([6, 3, 5, 3, 2, 4, 3, 4, 2, 2, 1, 2, 2, 1, 1, 2, 4, 6, 5, 1, 1, 5,\n",
       "       2, 4, 3, 5, 3, 5, 1, 6, 1, 2, 4, 5, 5, 5, 2, 6, 4, 3])"
      ]
     },
     "execution_count": 112,
     "metadata": {},
     "output_type": "execute_result"
    }
   ],
   "source": [
    "np.random.seed(123)\n",
    "amostra = np.random.randint(1,7,40)\n",
    "amostra"
   ]
  },
  {
   "cell_type": "markdown",
   "id": "f8d7edce",
   "metadata": {},
   "source": [
    "Gerar média amostral"
   ]
  },
  {
   "cell_type": "code",
   "execution_count": 113,
   "id": "dad3db23",
   "metadata": {},
   "outputs": [
    {
     "data": {
      "text/plain": [
       "3.275"
      ]
     },
     "execution_count": 113,
     "metadata": {},
     "output_type": "execute_result"
    }
   ],
   "source": [
    "np.mean(amostra)"
   ]
  },
  {
   "cell_type": "markdown",
   "id": "46f9686c",
   "metadata": {},
   "source": [
    "### Utilizar mil médias amostrais\n",
    "Comprovar o Teorema do Limite Central (TLC)"
   ]
  },
  {
   "cell_type": "code",
   "execution_count": 117,
   "id": "a8e3e36c",
   "metadata": {},
   "outputs": [
    {
     "data": {
      "image/png": "[encoded data removed]",
      "text/plain": [
       "<Figure size 640x480 with 1 Axes>"
      ]
     },
     "metadata": {},
     "output_type": "display_data"
    }
   ],
   "source": [
    "np.random.seed(123)\n",
    "medias_amostrais = [np.mean(np.random.randint(1,7,40)) for _ in range(1000)]\n",
    "plt.hist(medias_amostrais)\n",
    "plt.show()"
   ]
  },
  {
   "cell_type": "markdown",
   "id": "06f01284",
   "metadata": {},
   "source": [
    "Média"
   ]
  },
  {
   "cell_type": "code",
   "execution_count": 118,
   "id": "56499eb5",
   "metadata": {
    "scrolled": false
   },
   "outputs": [
    {
     "data": {
      "text/plain": [
       "3.49475"
      ]
     },
     "execution_count": 118,
     "metadata": {},
     "output_type": "execute_result"
    }
   ],
   "source": [
    "np.mean(medias_amostrais)"
   ]
  },
  {
   "cell_type": "markdown",
   "id": "f0221e88",
   "metadata": {},
   "source": [
    "Mediana"
   ]
  },
  {
   "cell_type": "code",
   "execution_count": 120,
   "id": "37b226ed",
   "metadata": {},
   "outputs": [
    {
     "data": {
      "text/plain": [
       "3.5"
      ]
     },
     "execution_count": 120,
     "metadata": {},
     "output_type": "execute_result"
    }
   ],
   "source": [
    "np.median(medias_amostrais)"
   ]
  },
  {
   "cell_type": "markdown",
   "id": "535d20fc",
   "metadata": {},
   "source": [
    "Moda"
   ]
  },
  {
   "cell_type": "code",
   "execution_count": 122,
   "id": "c5867c70",
   "metadata": {},
   "outputs": [
    {
     "data": {
      "text/plain": [
       "3.45"
      ]
     },
     "execution_count": 122,
     "metadata": {},
     "output_type": "execute_result"
    }
   ],
   "source": [
    "stats.mode(medias_amostrais)"
   ]
  },
  {
   "cell_type": "markdown",
   "id": "c58fc8cd",
   "metadata": {},
   "source": [
    "### Teorema do Limite Central em um DataFrame\n",
    "Aplicando o mesmo conceito com um DataFrame de um arquivo CSV"
   ]
  },
  {
   "cell_type": "markdown",
   "id": "eff3341f",
   "metadata": {},
   "source": [
    "Importando pandas"
   ]
  },
  {
   "cell_type": "code",
   "execution_count": 123,
   "id": "156a4f17",
   "metadata": {},
   "outputs": [],
   "source": [
    "import pandas as pd"
   ]
  },
  {
   "cell_type": "markdown",
   "id": "bfa134f2",
   "metadata": {},
   "source": [
    "Ler DataFrame do arquivo 'Weight-height.csv'"
   ]
  },
  {
   "cell_type": "code",
   "execution_count": 129,
   "id": "0346feba",
   "metadata": {},
   "outputs": [],
   "source": [
    "df = pd.read_csv('weight-height.csv')"
   ]
  },
  {
   "cell_type": "markdown",
   "id": "d76744fe",
   "metadata": {},
   "source": [
    "Verificar tamano da amostra"
   ]
  },
  {
   "cell_type": "code",
   "execution_count": 126,
   "id": "d8cb42c4",
   "metadata": {},
   "outputs": [
    {
     "data": {
      "text/plain": [
       "(10000, 3)"
      ]
     },
     "execution_count": 126,
     "metadata": {},
     "output_type": "execute_result"
    }
   ],
   "source": [
    "df.shape"
   ]
  },
  {
   "cell_type": "markdown",
   "id": "779e088f",
   "metadata": {},
   "source": [
    "Gerar amostra aleatoria 5 elementos"
   ]
  },
  {
   "cell_type": "code",
   "execution_count": 132,
   "id": "44cd2e87",
   "metadata": {},
   "outputs": [
    {
     "data": {
      "text/plain": [
       "9360    136.494215\n",
       "9570    158.535927\n",
       "9711    143.664714\n",
       "1986    227.945248\n",
       "9055    138.537481\n",
       "Name: Weight, dtype: float64"
      ]
     },
     "execution_count": 132,
     "metadata": {},
     "output_type": "execute_result"
    }
   ],
   "source": [
    "amostra = df['Weight'].sample(5)\n",
    "amostra"
   ]
  },
  {
   "cell_type": "markdown",
   "id": "92eae447",
   "metadata": {},
   "source": [
    "Gerar 200 médias amostrais de 50 amostras cada"
   ]
  },
  {
   "cell_type": "code",
   "execution_count": 135,
   "id": "a28b5177",
   "metadata": {},
   "outputs": [],
   "source": [
    "np.random.seed(123)\n",
    "medias_amostrais = []\n",
    "\n",
    "for _ in range(200):\n",
    "    medias_amostrais.append(np.mean(df['Weight'].sample(50)))"
   ]
  },
  {
   "cell_type": "code",
   "execution_count": 136,
   "id": "3ed3f891",
   "metadata": {},
   "outputs": [
    {
     "data": {
      "text/plain": [
       "[162.77364907563273,\n",
       " 169.17896607898004,\n",
       " 173.54232012047927,\n",
       " 159.02814469668192,\n",
       " 163.53859638246243,\n",
       " 155.08083783726497,\n",
       " 152.37682945131976,\n",
       " 158.58754812843728,\n",
       " 162.85151871487437,\n",
       " 160.2262092985831,\n",
       " 155.91778483747655,\n",
       " 164.55078574428998,\n",
       " 163.7216758194734,\n",
       " 162.9678230214546,\n",
       " 159.4788399194415,\n",
       " 164.1722456620811,\n",
       " 154.2460609361593,\n",
       " 155.0067123771831,\n",
       " 157.6415340956235,\n",
       " 162.4066662215306,\n",
       " 153.67387722752778,\n",
       " 159.99387664769748,\n",
       " 161.54661906371445,\n",
       " 157.98792904509847,\n",
       " 166.50849248505153,\n",
       " 161.48351454577565,\n",
       " 161.58175586135735,\n",
       " 156.93803413482527,\n",
       " 160.8867436090186,\n",
       " 158.77044671829583,\n",
       " 163.77610710297859,\n",
       " 166.3419735238348,\n",
       " 161.4699851213748,\n",
       " 154.37591378011538,\n",
       " 161.53513774063413,\n",
       " 165.49680449576442,\n",
       " 163.30829928444783,\n",
       " 165.99900708566344,\n",
       " 159.17175737543184,\n",
       " 164.07840580207613,\n",
       " 157.05044183651148,\n",
       " 160.38800286363877,\n",
       " 165.80804201401287,\n",
       " 160.87141841898753,\n",
       " 159.0040573307023,\n",
       " 162.05476785386566,\n",
       " 161.4310659734868,\n",
       " 159.4254748185431,\n",
       " 155.92481077094897,\n",
       " 174.78545160369475,\n",
       " 167.41143149225064,\n",
       " 165.8802155416066,\n",
       " 160.51802801300903,\n",
       " 166.36546549820295,\n",
       " 162.48880064709195,\n",
       " 161.258703728637,\n",
       " 171.5801048879565,\n",
       " 158.23692103798322,\n",
       " 165.24987586952113,\n",
       " 155.02612120535272,\n",
       " 163.32371114383372,\n",
       " 159.83174443275036,\n",
       " 157.48432111624135,\n",
       " 166.52876297502283,\n",
       " 160.49771819500802,\n",
       " 160.7349430391686,\n",
       " 160.45650823050192,\n",
       " 163.5323389322008,\n",
       " 155.00232692604075,\n",
       " 160.5874528934571,\n",
       " 167.6492956184827,\n",
       " 160.38428387224437,\n",
       " 164.72647474920706,\n",
       " 166.0229538398197,\n",
       " 173.72253437997685,\n",
       " 159.24377225413448,\n",
       " 170.34783789855308,\n",
       " 162.59928348642416,\n",
       " 166.67880755050436,\n",
       " 163.64206315865624,\n",
       " 161.35818117721865,\n",
       " 156.29756459089796,\n",
       " 161.14438954536348,\n",
       " 169.5098911172439,\n",
       " 162.25079397573097,\n",
       " 163.1942875270807,\n",
       " 164.93145156134085,\n",
       " 160.140077634923,\n",
       " 172.28122201684982,\n",
       " 168.70779324418106,\n",
       " 158.63106472762334,\n",
       " 157.02416317068312,\n",
       " 156.78283415232178,\n",
       " 157.75210106348885,\n",
       " 167.4118757762006,\n",
       " 167.30030046963344,\n",
       " 164.40533169713908,\n",
       " 158.32904611905514,\n",
       " 154.60557790839118,\n",
       " 156.49868618242652,\n",
       " 157.97298366402288,\n",
       " 169.6896557607063,\n",
       " 170.99516885907738,\n",
       " 167.70638555185954,\n",
       " 153.03725314816083,\n",
       " 166.54768502440405,\n",
       " 163.18251637291795,\n",
       " 166.5996153431939,\n",
       " 161.1929276495663,\n",
       " 159.67909173146788,\n",
       " 170.37162930767892,\n",
       " 164.58951255060683,\n",
       " 161.03880656715754,\n",
       " 165.94992779606318,\n",
       " 162.0477421693296,\n",
       " 159.7631415593207,\n",
       " 159.6848194205897,\n",
       " 160.1519226027876,\n",
       " 157.65457222392013,\n",
       " 154.9288314393527,\n",
       " 159.9401414142953,\n",
       " 165.43292360687897,\n",
       " 169.06356768267986,\n",
       " 163.9567673614881,\n",
       " 158.11128943059435,\n",
       " 170.39579997699914,\n",
       " 163.39352020141973,\n",
       " 156.77488235941445,\n",
       " 154.62299174600113,\n",
       " 168.43232662681467,\n",
       " 162.42902321067174,\n",
       " 152.5420133897082,\n",
       " 167.5615225719748,\n",
       " 165.57251432765418,\n",
       " 157.7991104929739,\n",
       " 165.52796323506107,\n",
       " 157.72069425337583,\n",
       " 167.68603024896262,\n",
       " 149.5339070079168,\n",
       " 163.98250837527266,\n",
       " 162.5559876400086,\n",
       " 161.71163068537868,\n",
       " 166.29354483601958,\n",
       " 170.99927559831616,\n",
       " 160.64477017848148,\n",
       " 167.77943185885928,\n",
       " 158.1354680097438,\n",
       " 159.49708540755185,\n",
       " 154.30278403938573,\n",
       " 164.39593211709646,\n",
       " 161.47085147818345,\n",
       " 160.11238053021006,\n",
       " 163.63073306211894,\n",
       " 157.84901262583423,\n",
       " 158.060959320819,\n",
       " 168.40967365123734,\n",
       " 157.1493319130378,\n",
       " 170.1756212238171,\n",
       " 166.40776322594772,\n",
       " 160.7895835849728,\n",
       " 166.32298673301284,\n",
       " 163.49906762123356,\n",
       " 162.21260051405457,\n",
       " 157.46541174605844,\n",
       " 156.66565346674508,\n",
       " 156.98077300675826,\n",
       " 154.65257174933123,\n",
       " 156.60589151921496,\n",
       " 169.39291460543075,\n",
       " 155.46998369945945,\n",
       " 161.50095966274782,\n",
       " 160.5899304349416,\n",
       " 154.40826608157778,\n",
       " 163.07632154084567,\n",
       " 161.75492810769774,\n",
       " 164.82755281988128,\n",
       " 163.39312298955616,\n",
       " 162.37534147461335,\n",
       " 163.03937460024952,\n",
       " 161.35082664068352,\n",
       " 165.66406862533452,\n",
       " 152.6920087278101,\n",
       " 156.54108084992265,\n",
       " 154.92104335591924,\n",
       " 166.97347062952574,\n",
       " 162.48705342971047,\n",
       " 169.5098502859482,\n",
       " 163.8280709871559,\n",
       " 161.3595488326101,\n",
       " 164.11427305920222,\n",
       " 162.79232006566315,\n",
       " 157.38833446051692,\n",
       " 155.27960668970908,\n",
       " 153.2281789537372,\n",
       " 157.59252489250758,\n",
       " 162.5151017285498,\n",
       " 159.41940577787045,\n",
       " 151.43168606901753,\n",
       " 157.67049349643955,\n",
       " 160.87383561239713]"
      ]
     },
     "execution_count": 136,
     "metadata": {},
     "output_type": "execute_result"
    }
   ],
   "source": [
    "# Visualizando\n",
    "medias_amostrais"
   ]
  },
  {
   "cell_type": "code",
   "execution_count": 138,
   "id": "0f690161",
   "metadata": {},
   "outputs": [
    {
     "data": {
      "text/plain": [
       "200"
      ]
     },
     "execution_count": 138,
     "metadata": {},
     "output_type": "execute_result"
    }
   ],
   "source": [
    "# tamanho das medias amostrais\n",
    "len(medias_amostrais)"
   ]
  },
  {
   "cell_type": "code",
   "execution_count": 139,
   "id": "8e36d5af",
   "metadata": {
    "scrolled": false
   },
   "outputs": [
    {
     "data": {
      "image/png": "[encoded data removed]",
      "text/plain": [
       "<Figure size 640x480 with 1 Axes>"
      ]
     },
     "metadata": {},
     "output_type": "display_data"
    }
   ],
   "source": [
    "# Observamos que temos uma distribuição normal\n",
    "plt.hist(medias_amostrais)\n",
    "plt.show()"
   ]
  },
  {
   "cell_type": "markdown",
   "id": "fdacc9ff",
   "metadata": {},
   "source": []
  },
  {
   "cell_type": "markdown",
   "id": "e3a4de3e",
   "metadata": {},
   "source": []
  },
  {
   "cell_type": "markdown",
   "id": "3bd4f420",
   "metadata": {},
   "source": [
    "<center><h1> Intervalo de Confiança</h1>\n",
    " Um intervalo baseado numa amostra estatística, onde um parâmetro da População tem maior chance de estar localizado</center>"
   ]
  },
  {
   "cell_type": "markdown",
   "id": "68b671dd",
   "metadata": {},
   "source": [
    "<strong>Vocabulários:</strong>\n",
    "* $\\hat{p}$: Proporção (probabilidade de sucesso)\n",
    "* $\\hat{q}$: Probabilidade de Falha\n",
    "* $Nível De Confiança$: Probabilidade do intervalo conter o parâmetro da População\n",
    "* $\\alpha$: probabilidade de estar errado (100% menos o Nível de Confiança)\n",
    "* $E$: Margem de Erro\n",
    "* $Z$: Valor-Z que nos dá a área de cada calda lateral da distribuição normal correspondente a probabilidade de estarmos errados.\n",
    "\n",
    "<br/><center>Proporção ($\\hat{p}$)</center>\n",
    "$$\\boxed {\\hat{p} = \\frac {sucessos} {tentativas}=\\frac x n}$$\n",
    "\n",
    "<br/><center>Probabilidade de falha ($\\hat{q}$)</center>\n",
    "$$\\boxed {\\hat{q} = 1-\\hat{p}}$$\n",
    "\n",
    "<br/><center>Margem de Erro (E)</center>\n",
    "$$\\boxed {E = Z_{\\alpha/2} \\sqrt { \\frac {\\hat{p}\\hat{q}}{n}}}$$\n",
    "\n",
    "<br/><center>Intervalo de Confiança</center>\n",
    "$$\\boxed {\\hat{p}-E,\\hat{p}+E}$$ "
   ]
  },
  {
   "cell_type": "markdown",
   "id": "0a3b5f1d",
   "metadata": {},
   "source": [
    "<center><h2>Nível de Confiança x $Z_{\\alpha/2}$</h2></center>\n",
    "\n",
    "| Niv Conf  | $Z_{\\alpha/2}$|\n",
    "|-----|--------------:|\n",
    "| 90% |  1.645 | \n",
    "| 95% |  1.960 | \n",
    "| 99% |  2.576 | "
   ]
  },
  {
   "cell_type": "markdown",
   "id": "7e084dce",
   "metadata": {},
   "source": [
    "<center><h2> Noventa Porcento</h2>\n",
    "Noventa por cento de confiança em que os dados de um parâmetro da População se encontram nesse intervalo\n",
    "<img src=\"imagens/90.png\" width=400px />\n",
    "</center>"
   ]
  },
  {
   "cell_type": "markdown",
   "id": "9fa10a5d",
   "metadata": {},
   "source": [
    "<center><h2>Noventa e Cinco Por Cento</h2>\n",
    "Noventa por cento de confiança de que os dados de um parâmetro da População se encontram nesse intervalo\n",
    "<img src=\"imagens/95.png\" width=400px />\n",
    "</center>"
   ]
  },
  {
   "cell_type": "markdown",
   "id": "6830c310",
   "metadata": {},
   "source": [
    "<center><h1>Noventa e Nove Por Cento</h1>\n",
    "Noventa por cento de confiança de que os dados de um parâmetro da População se encontram nesse intervalo\n",
    "<img src=\"imagens/99.png\" width=400px />\n",
    "</center>"
   ]
  },
  {
   "cell_type": "markdown",
   "id": "f86e9f9c",
   "metadata": {},
   "source": [
    "# Exercício\n",
    "Numa pesquisa constatou-se que 95 de um total de 174 pessoas votarão em um específico candidato ao Senado. Construa uma estimativa com um Intervalo de Confiança de 90% de proporção das pessoas de toda a População que votarão nesse candidato. "
   ]
  },
  {
   "cell_type": "markdown",
   "id": "2c6fc183",
   "metadata": {},
   "source": [
    "$$\\hat{p}=\\frac x n = \\frac {95} {174} = 0.546$$ <br/>\n",
    "\n",
    "$$\\hat{q}= 1-0.546 = 0.454$$ <br/>\n",
    "\n",
    "$$Z_{\\alpha/2} = Z_{0.10/2} = Z_{0.05}=1.645$$ <br/>\n",
    "\n",
    "$$E = Z_{\\alpha/2} \\sqrt { \\frac {\\hat{p}\\hat{q}}{n}}=1.645 \\sqrt { \\frac {0.546 \\cdot 0.454}{174}}=0.062$$ <br/>\n",
    "\n",
    "$$[\\hat{p}-E,\\hat{p}+E] = [0.546-0.062, 0.546+0.062] = [0.484,0.608] $$ "
   ]
  },
  {
   "cell_type": "markdown",
   "id": "a58a56e5",
   "metadata": {},
   "source": [
    "### Interpretando o Intervalo de Confiança\n",
    "\"Estimamos com X% de confiança, que a real população (parâmetro em contexto) se encontra entre (menor) e (maior)\"\n",
    "\n",
    "**Estimamos com 90% de confiança que a proporção das pessoas de toda a população que votarão no candidato ao Senado se encontra entre 48,4% e 60,8%.**"
   ]
  },
  {
   "cell_type": "markdown",
   "id": "9dd49d0c",
   "metadata": {},
   "source": [
    "# Teste de Hipóteses\n",
    " Uma forma de testar uma afirmação"
   ]
  },
  {
   "cell_type": "markdown",
   "id": "ac6558f0",
   "metadata": {},
   "source": [
    "1. Define-se duas hipóteses:\n",
    "    * $H_0$: Hipótese Nula ( geralmente usa-se = )\n",
    "        * Assumimos que é verdade\n",
    "    * $H_a$: Hipótese Alternativa ( geralmente >, <, ≠ )\n",
    "        * Usamos $H_a$ para tentar reunir provas suficientes para rejeitar $H_0$ <br />\n",
    "<br>\n",
    "2. Testa-se uma amostra \n",
    "<br>\n",
    "\n",
    "3. Calcula-se a probabilidade de $H_0$ ser verdadeira, baseando-se na nossa amostra (Através do **valor-p**)\n",
    "<br>\n",
    "\n",
    "4. Compara-se $\\alpha$ (a menor probabilidade de que nós ainda acreditaremos que $H_0$ é verdadeira):\n",
    "    * Se o valor-p (probabilidade de $H_0$ ser verdadeira) for menor que $\\alpha$, nós **rejeitaremos $H_0$ (valor-p < $\\alpha$)**\n",
    "    * Se o valor-p for maior que $\\alpha$ nós **falhamos em rejeitar $H_0$ (valor-p > $\\alpha$)**\n",
    "\n"
   ]
  },
  {
   "cell_type": "markdown",
   "id": "b606141c",
   "metadata": {},
   "source": [
    "## Exemplo (Tribunal)\n",
    "Considere um tribunal. Uma pessoa é acusada de um crime.\n",
    "\n",
    "$H_0$: inocente <br>\n",
    "$H_a$: culpada\n",
    "\n",
    "Assume-se que a pessoa é inocente até comprovado que é culpada (p-value) além de uma dúvida razoável ($\\alpha$)\n",
    "\n",
    "Se comprovado culpado: rejeitamos a $H_0$ e concluímos que o acusado é \"culpado\".<br>\n",
    "Se não: falhamos em rejeitar a $H_0$ e concluímos que \"não é culpado\" ( a conclusão tem foco na $H_a$).\n",
    "\n",
    "**Nós nunca concluímos que $H_0$ é verdadeira**"
   ]
  },
  {
   "cell_type": "markdown",
   "id": "9d63f2d1",
   "metadata": {},
   "source": [
    "### Conclusões\n",
    "\"Existe (ou não existe) suficiente evidência para concluir (Hipótese Alternativa em contexto)\"."
   ]
  },
  {
   "cell_type": "markdown",
   "id": "adfe06a3",
   "metadata": {},
   "source": [
    "## Teste de Hipóteses para proporções\n",
    "\n",
    "### Fórmulas\n",
    "Proporções são normalmente distribuidas com a proporção agindo como média, e $\\sqrt {\\frac {\\hat{p}\\hat{q}}{n}}$ como Erro Padrão\n",
    "$$\\hat{p} \\sim N(\\hat{p}, \\sqrt {\\frac {\\hat{p}\\hat{q}}{n}})$$\n",
    "\n",
    "No teste de hipóteses, ao invés da proporção, usamos os valores da $H_0$ (diferente do intervalo de confiança)\n",
    "\n",
    "Para calcular a probabilidade (valor-p), precisaremos do $\\hat{p}$ da proporção da amostra, $\\hat{p}$ da probabilidade da hipótese nula, e do Erro Padrão (EP).\n",
    "$$Z = \\frac {\\hat{p} - \\hat{p}_{H_0}}{EP}$$\n"
   ]
  },
  {
   "cell_type": "markdown",
   "id": "f02738aa",
   "metadata": {},
   "source": [
    "## Exemplo (IPhone)\n",
    "Uma empresa telefônica afirma que 43% dos usuários de smartphone nos EUA usam IPhone. Você duvida dessa afirmação. Então você faz uma pesquisa de 83 usuários americanos de smartphone. 44 deles usam IPhone. O que você pode concluir, se $\\alpha=0.05$?\n",
    "\n",
    "$H_0$: $\\hat{p}$ = 0.43 <br>\n",
    "$H_a$: $\\hat{p}$ ≠ 0.43 _(teste de duas caldas, rejeitamos se for menor ou maior)_\n",
    "\n",
    "$$\\hat{p} \\sim N(\\hat{p}, \\sqrt {\\frac {\\hat{p}\\hat{q}}{n}})=\\hat{p} \\sim N(0.43,\\sqrt {\\frac {0.43 \\cdot 0.57}{83}})=\\hat{p} \\sim N(0.43,0.0543)$$\n",
    "\n",
    "<img src=\"imagens/1.png\" width=350px /><br><br>\n",
    "\n",
    "<center>Calculando o $\\hat{p}$ da proporção</center>\n",
    "$$\\hat{p} = \\frac x n = \\frac {44}{83} = 0.53$$\n",
    "<img src=\"imagens/2.png\" width=350px /><br><br>\n",
    "\n",
    "\n",
    "<center>Calculando o valor-Z</center>\n",
    "$$Z = \\frac {\\hat{p} - \\hat{p}_{H_0}}{EP} = \\frac {0.53 - 0.43}{0.0543}=1.84$$\n",
    "<img src=\"imagens/3.png\" width=350px /><br><br>\n",
    "\n",
    "<center>Ir na tabela Z e verificar a probabilidade correspondente desse valor-Z: $0.9671$, se tirarmos a outra metade, $0.9671-0.5 = 0.4671$ </center>\n",
    "<img src=\"imagens/4.png\" width=350px /><br><br>\n",
    "\n",
    "<center>Mas a área que desejamos é a da calda. Logo, calculamos $0.5 - 0.4671 = 0.0329$</center>\n",
    "<img src=\"imagens/6.png\" width=350px /><br><br>\n",
    "\n",
    "Calculamos o valor-p = $0.0329 + 0.0329 = 0.0658$ (valor-p é a probabilidade de $H_0$ ser verdadeira baseando-se na nossa amostra).Em outras palavras, baseando-se na nossa pesquisa, existe 6.58% de chance da proporção de usuários realmente ser 43%.\n",
    "\n",
    "**Decisão**: falhamos em rejeitar a hipótese nula<br>\n",
    "**Motivo**: valor-p > $\\alpha$ = 0.068 > 0.005<br>\n",
    "**Conclusão**: Não existe suficiente evidência para concluir que a proporção de usuários de IPhone é diferente de 43%."
   ]
  },
  {
   "cell_type": "markdown",
   "id": "214dac2d",
   "metadata": {},
   "source": [
    "# Façamos um intervalo de confiança de 95%\n",
    "$$\\hat{p} = 0.53$$ <br>\n",
    "$$\\hat{q} = 0.47$$ <br>\n",
    "$$Z_{\\alpha/2} = Z_{0.05/2} = Z_{0.025}=1.96$$ <br>\n",
    "\n",
    "$$E = Z_{\\alpha/2} \\sqrt { \\frac {\\hat{p}\\hat{q}}{n}}=1.96 \\sqrt { \\frac {0.53 \\cdot 0.47}{83}}=0.107$$ <br/>\n",
    "\n",
    "$$[\\hat{p}-E,\\hat{p}+E] = [0.53-0.107, 0.53+0.107] = [0.423,0.637] $$ "
   ]
  },
  {
   "cell_type": "markdown",
   "id": "2d1ae64c",
   "metadata": {},
   "source": [
    "**Podemos dizer com 95% de confiança que a proporção de americanos que usam IPhone se encontra entre 42,3% e 63,7%.**"
   ]
  },
  {
   "cell_type": "markdown",
   "id": "3c530f2b",
   "metadata": {},
   "source": []
  },
  {
   "cell_type": "markdown",
   "id": "788a5848",
   "metadata": {},
   "source": []
  },
  {
   "cell_type": "markdown",
   "id": "bbdd4227",
   "metadata": {},
   "source": []
  },
  {
   "cell_type": "markdown",
   "id": "628f96ef",
   "metadata": {},
   "source": []
  },
  {
   "cell_type": "code",
   "execution_count": null,
   "id": "c0de0ee3",
   "metadata": {},
   "outputs": [],
   "source": []
  },
  {
   "cell_type": "code",
   "execution_count": null,
   "id": "6c9579b2",
   "metadata": {},
   "outputs": [],
   "source": []
  },
  {
   "cell_type": "code",
   "execution_count": null,
   "id": "c2cb60ce",
   "metadata": {},
   "outputs": [],
   "source": []
  },
  {
   "cell_type": "code",
   "execution_count": null,
   "id": "ef183a96",
   "metadata": {},
   "outputs": [],
   "source": []
  },
  {
   "cell_type": "code",
   "execution_count": null,
   "id": "ad34824c",
   "metadata": {},
   "outputs": [],
   "source": []
  },
  {
   "cell_type": "code",
   "execution_count": null,
   "id": "b102eabf",
   "metadata": {},
   "outputs": [],
   "source": []
  },
  {
   "cell_type": "code",
   "execution_count": null,
   "id": "147b4601",
   "metadata": {},
   "outputs": [],
   "source": []
  },
  {
   "cell_type": "code",
   "execution_count": null,
   "id": "2cc3dbea",
   "metadata": {},
   "outputs": [],
   "source": []
  },
  {
   "cell_type": "code",
   "execution_count": null,
   "id": "9877f38a",
   "metadata": {},
   "outputs": [],
   "source": []
  },
  {
   "cell_type": "code",
   "execution_count": null,
   "id": "d5d223cc",
   "metadata": {},
   "outputs": [],
   "source": []
  },
  {
   "cell_type": "code",
   "execution_count": null,
   "id": "92669159",
   "metadata": {},
   "outputs": [],
   "source": []
  },
  {
   "cell_type": "code",
   "execution_count": null,
   "id": "549aba86",
   "metadata": {},
   "outputs": [],
   "source": []
  }
 ],
 "metadata": {
  "kernelspec": {
   "display_name": "Python 3 (ipykernel)",
   "language": "python",
   "name": "python3"
  },
  "language_info": {
   "codemirror_mode": {
    "name": "ipython",
    "version": 3
   },
   "file_extension": ".py",
   "mimetype": "text/x-python",
   "name": "python",
   "nbconvert_exporter": "python",
   "pygments_lexer": "ipython3",
   "version": "3.10.9"
  }
 },
 "nbformat": 4,
 "nbformat_minor": 5
}
